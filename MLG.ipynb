{
  "nbformat": 4,
  "nbformat_minor": 0,
  "metadata": {
    "colab": {
      "name": "MLG.ipynb",
      "provenance": [],
      "collapsed_sections": [],
      "mount_file_id": "1fQNk8QvrS1svKNtE3BAuHeOMQCRfa6bt",
      "authorship_tag": "ABX9TyO2sgq9jdNtg3iOUIqSlF4V",
      "include_colab_link": true
    },
    "kernelspec": {
      "name": "python3",
      "display_name": "Python 3"
    },
    "language_info": {
      "name": "python"
    }
  },
  "cells": [
    {
      "cell_type": "markdown",
      "metadata": {
        "id": "view-in-github",
        "colab_type": "text"
      },
      "source": [
        "<a href=\"https://colab.research.google.com/github/pol3et/MLG/blob/main/MLG.ipynb\" target=\"_parent\"><img src=\"https://colab.research.google.com/assets/colab-badge.svg\" alt=\"Open In Colab\"/></a>"
      ]
    },
    {
      "cell_type": "markdown",
      "source": [
        "Random sh!t\n",
        "-----------------------------------------------------------------------------"
      ],
      "metadata": {
        "id": "IXhRUm2t_kvD"
      }
    },
    {
      "cell_type": "code",
      "execution_count": null,
      "metadata": {
        "colab": {
          "base_uri": "https://localhost:8080/"
        },
        "id": "lFp7rvCQplxP",
        "outputId": "eb599048-da07-4d4c-c597-5b1da080d65b"
      },
      "outputs": [
        {
          "output_type": "stream",
          "name": "stdout",
          "text": [
            "Python 3.7.12\n"
          ]
        }
      ],
      "source": [
        "!python --version"
      ]
    },
    {
      "cell_type": "code",
      "source": [
        "import math\n",
        "x=1.57\n",
        "s=x-(x**3)/math.factorial(3)+(x**5)/math.factorial(5)-(x**7)/math.factorial(7)\n",
        "print(s)"
      ],
      "metadata": {
        "colab": {
          "base_uri": "https://localhost:8080/"
        },
        "id": "zkZpz3FgHN9n",
        "outputId": "ace979c6-a0bd-4c81-a7fe-03c48dd03259"
      },
      "execution_count": null,
      "outputs": [
        {
          "output_type": "stream",
          "name": "stdout",
          "text": [
            "0.9998434952309573\n"
          ]
        }
      ]
    },
    {
      "cell_type": "code",
      "source": [
        "year=1900\n",
        "if (year%4==0 and year%100!=0)or(year%400==0):\n",
        "   print(True)\n",
        "else:\n",
        "   print(False)"
      ],
      "metadata": {
        "colab": {
          "base_uri": "https://localhost:8080/"
        },
        "id": "D6hD2O5wKsqk",
        "outputId": "3d01328e-994b-4223-b253-916d18dae401"
      },
      "execution_count": null,
      "outputs": [
        {
          "output_type": "stream",
          "name": "stdout",
          "text": [
            "False\n"
          ]
        }
      ]
    },
    {
      "cell_type": "code",
      "source": [
        "a=2\n",
        "b=5\n",
        "s=[i for i in range(a,b)]\n",
        "result=0\n",
        "for i in s:\n",
        "   result+=i\n",
        "print(result)"
      ],
      "metadata": {
        "colab": {
          "base_uri": "https://localhost:8080/"
        },
        "id": "bQLeNiQ7MMt-",
        "outputId": "9de29d73-8054-42a7-fd2c-7f8e6a8b8526"
      },
      "execution_count": null,
      "outputs": [
        {
          "output_type": "stream",
          "name": "stdout",
          "text": [
            "9\n"
          ]
        }
      ]
    },
    {
      "cell_type": "code",
      "source": [
        "import math\n",
        "def sus(n,x):\n",
        "   s=(x**n)/(math.factorial(n))\n",
        "   return s  \n",
        "s=float(0.0)\n",
        "for i in range(6):\n",
        "  s+=sus(i,1)\n",
        "print(s)"
      ],
      "metadata": {
        "colab": {
          "base_uri": "https://localhost:8080/"
        },
        "id": "fJXiqkA8SYHe",
        "outputId": "44b3929b-3fa7-4337-d5f2-b22b1317031a"
      },
      "execution_count": null,
      "outputs": [
        {
          "output_type": "stream",
          "name": "stdout",
          "text": [
            "2.7166666666666663\n"
          ]
        }
      ]
    },
    {
      "cell_type": "code",
      "source": [
        "def grader(score):\n",
        "  if score<60:\n",
        "    print('неудовлетворительно')\n",
        "  elif score<=74 and score>=60:\n",
        "    print('удовлетворительно')\n",
        "  elif score<=90 and score>74:\n",
        "    print('хорошо')\n",
        "  elif score<=100 and score>90:\n",
        "    print('отлично')\n",
        "grader(91)\n"
      ],
      "metadata": {
        "colab": {
          "base_uri": "https://localhost:8080/"
        },
        "id": "MENvIi3tVkGc",
        "outputId": "132efbc7-6f73-49d1-d95b-1a1e730faf5a"
      },
      "execution_count": null,
      "outputs": [
        {
          "output_type": "stream",
          "name": "stdout",
          "text": [
            "отлично\n"
          ]
        }
      ]
    },
    {
      "cell_type": "code",
      "source": [
        "Name=['Kate','Lena','Dima']\n",
        "Age=[23,56,33]\n",
        "def gen_dict(Name, Age):\n",
        "  dict={}\n",
        "  for i,j in zip(Name,Age):\n",
        "    dict[i]=j\n",
        "  return dict\n",
        "print(gen_dict)"
      ],
      "metadata": {
        "id": "nZQAbMqxagt9",
        "colab": {
          "base_uri": "https://localhost:8080/"
        },
        "outputId": "200bb38f-c703-42ca-a2b3-eafe270d5d02"
      },
      "execution_count": null,
      "outputs": [
        {
          "output_type": "stream",
          "name": "stdout",
          "text": [
            "<function gen_dict at 0x7fe68748e950>\n"
          ]
        }
      ]
    },
    {
      "cell_type": "code",
      "source": [
        ""
      ],
      "metadata": {
        "id": "Cu4XCXV20WQk"
      },
      "execution_count": null,
      "outputs": []
    },
    {
      "cell_type": "markdown",
      "source": [
        "**Task 1**\n",
        "-----------------------------------------------------------------------------"
      ],
      "metadata": {
        "id": "wCpDL-Qj0W1b"
      }
    },
    {
      "cell_type": "code",
      "source": [
        "from pandas.core.indexes.api import all_indexes_same\n",
        "from pandas.core.frame import DataFrame\n",
        "import pandas as pd\n",
        "sal=pd.read_csv('report.csv',usecols=['SALARY'])\n",
        "df=DataFrame(sal)\n",
        "print(df.sort_values('SALARY').iloc[[5]])\n",
        "print(df.sort_values('SALARY').iloc[[12]])\n",
        "print(df.sort_values('SALARY').iloc[[32]])\n",
        "print(round(df.sort_values('SALARY').mean(),2))\n",
        "print(round(df.sort_values('SALARY').median(),2))"
      ],
      "metadata": {
        "colab": {
          "base_uri": "https://localhost:8080/"
        },
        "id": "zzug9nVX0Y9N",
        "outputId": "33f77f50-b619-4e80-f20a-0989e352ce99"
      },
      "execution_count": null,
      "outputs": [
        {
          "output_type": "stream",
          "name": "stdout",
          "text": [
            "   SALARY\n",
            "0   25960\n",
            "    SALARY\n",
            "54   26999\n",
            "    SALARY\n",
            "34   30820\n",
            "SALARY    38658.04\n",
            "dtype: float64\n",
            "SALARY    32473.0\n",
            "dtype: float64\n"
          ]
        }
      ]
    },
    {
      "cell_type": "markdown",
      "source": [
        "------------------------------------------------------------\n",
        "**end**"
      ],
      "metadata": {
        "id": "RbFTMeML4aSH"
      }
    },
    {
      "cell_type": "markdown",
      "source": [
        "TRY AND ERROR\n",
        "-----------------------------------------------------------------------------"
      ],
      "metadata": {
        "id": "hbFz8eaT_8xL"
      }
    },
    {
      "cell_type": "code",
      "source": [
        "from pandas.core.indexes.api import all_indexes_same\n",
        "from pandas.core.frame import DataFrame\n",
        "import pandas as pd\n",
        "all_cars=pd.read_csv('auto-mpg-quiz.csv', delimiter=',', decimal='.', index_col = 'name', usecols=['name','hp', 'cyl', 'weight', 'accel'])\n",
        "df_cars=DataFrame(all_cars[((all_cars.cyl==4)&(all_cars.hp>80)|(all_cars.cyl==8)&(all_cars.hp>90))])\n",
        "print(df_cars)\n",
        "print(round(df_cars.weight.mean(),3))"
      ],
      "metadata": {
        "colab": {
          "base_uri": "https://localhost:8080/"
        },
        "id": "fGBQfgqYw0qW",
        "outputId": "83735a87-f693-44b3-8e92-9d28a9614487"
      },
      "execution_count": null,
      "outputs": [
        {
          "output_type": "stream",
          "name": "stdout",
          "text": [
            "                           cyl   hp  weight  accel\n",
            "name                                              \n",
            "chevrolet chevelle malibu    8  130    3504   12.0\n",
            "buick skylark 320            8  165    3693   11.5\n",
            "plymouth satellite           8  150    3436   11.0\n",
            "amc rebel sst                8  150    3433   12.0\n",
            "ford torino                  8  140    3449   10.5\n",
            "...                        ...  ...     ...    ...\n",
            "dodge charger 2.2            4   84    2370   13.0\n",
            "chevrolet camaro             4   90    2950   17.3\n",
            "ford mustang gl              4   86    2790   15.6\n",
            "dodge rampage                4   84    2295   11.6\n",
            "chevy s-10                   4   82    2720   19.4\n",
            "\n",
            "[188 rows x 4 columns]\n",
            "3400.303\n"
          ]
        }
      ]
    },
    {
      "cell_type": "code",
      "source": [
        "import pandas as pd\n",
        "import matplotlib.pyplot as plt\n",
        "%matplotlib inline\n",
        "all_cars=pd.read_csv('auto-mpg-quiz.csv', delimiter=',', decimal='.', index_col = 'name')\n",
        "all_cars_sorted = all_cars.sort_values(by=['hp'])\n",
        "plt.plot('hp', 'accel', data=all_cars_sorted)\n",
        "plt.show()"
      ],
      "metadata": {
        "id": "iH_6bPUR9Lmf",
        "colab": {
          "base_uri": "https://localhost:8080/",
          "height": 265
        },
        "outputId": "ca236c07-86fd-4868-97bc-4fb7cbb47e9e"
      },
      "execution_count": null,
      "outputs": [
        {
          "output_type": "display_data",
          "data": {
            "image/png": "[encoded data removed]",
            "text/plain": [
              "<Figure size 432x288 with 1 Axes>"
            ]
          },
          "metadata": {
            "needs_background": "light"
          }
        }
      ]
    },
    {
      "cell_type": "code",
      "source": [
        "import pandas as pd\n",
        "import matplotlib.pyplot as plt\n",
        "%matplotlib inline\n",
        "all_cars=pd.read_csv('auto-mpg-quiz.csv', delimiter=',', decimal='.', index_col = 'name')\n",
        "all_cars_sorted = all_cars.sort_values(by=['hp'])\n",
        "plt.hist('hp',data=all_cars_sorted)\n",
        "plt.show()"
      ],
      "metadata": {
        "colab": {
          "base_uri": "https://localhost:8080/",
          "height": 265
        },
        "id": "OTyX9kTZbPF3",
        "outputId": "8c5fa728-ea6b-4389-e075-2d9c74dd4962"
      },
      "execution_count": null,
      "outputs": [
        {
          "output_type": "display_data",
          "data": {
            "image/png": "[encoded data removed]",
            "text/plain": [
              "<Figure size 432x288 with 1 Axes>"
            ]
          },
          "metadata": {
            "needs_background": "light"
          }
        }
      ]
    },
    {
      "cell_type": "code",
      "source": [
        "from google.colab import drive\n",
        "drive.mount('/content/drive')\n"
      ],
      "metadata": {
        "id": "sn8LOk_XZ6Q7"
      },
      "execution_count": null,
      "outputs": []
    },
    {
      "cell_type": "code",
      "source": [
        "from typing import Any\n",
        "import pandas as pd\n",
        "import matplotlib.pyplot as plt\n",
        "%matplotlib inline\n",
        "all_cars=pd.read_csv('auto-mpg-quiz.csv', delimiter=',', decimal='.', index_col = 'name')\n",
        "pie_data = all_cars.groupby(['cyl']).count()\n",
        "plt.pie(pie_data['hp'],labels=pie_data.index)\n",
        "plt.show()"
      ],
      "metadata": {
        "colab": {
          "base_uri": "https://localhost:8080/",
          "height": 248
        },
        "id": "ckrUa5s_esHN",
        "outputId": "fe1da1ec-ba2f-4822-8625-4456d762cbbf"
      },
      "execution_count": null,
      "outputs": [
        {
          "output_type": "display_data",
          "data": {
            "image/png": "[encoded data removed]",
            "text/plain": [
              "<Figure size 432x288 with 1 Axes>"
            ]
          },
          "metadata": {}
        }
      ]
    },
    {
      "cell_type": "code",
      "source": [
        "from pandas.core.indexes.api import all_indexes_same\n",
        "from pandas.core.frame import DataFrame\n",
        "import pandas as pd\n",
        "pulsar=pd.read_csv('pulsar.csv', delimiter=',',decimal='.', usecols=['TG','MIP'])\n",
        "pulsar_data=DataFrame(pulsar[((pulsar.TG==0)&((pulsar.MIP>=87.5859375)&(pulsar.MIP<=88.484375)))|((pulsar.TG==1)&((pulsar.MIP>=52.9296875)&(pulsar.MIP<=58.7890625)))])\n",
        "print(pulsar_data)\n",
        "print(round(pulsar_data.MIP.mean(),3))"
      ],
      "metadata": {
        "colab": {
          "base_uri": "https://localhost:8080/"
        },
        "id": "crS3HaSWj69E",
        "outputId": "c97c3fef-daea-4586-cf1b-94cb8b511c51"
      },
      "execution_count": null,
      "outputs": [
        {
          "output_type": "stream",
          "name": "stdout",
          "text": [
            "             MIP  TG\n",
            "245    88.250000   0\n",
            "508    53.789062   1\n",
            "603    55.187500   1\n",
            "628    87.750000   0\n",
            "648    58.437500   1\n",
            "...          ...  ..\n",
            "17460  88.367188   0\n",
            "17628  87.984375   0\n",
            "17670  87.742188   0\n",
            "17681  87.906250   0\n",
            "17830  87.625000   0\n",
            "\n",
            "[202 rows x 2 columns]\n",
            "72.013\n"
          ]
        }
      ]
    },
    {
      "cell_type": "code",
      "source": [
        "from pandas.core.indexes.api import all_indexes_same\n",
        "from pandas.core.frame import DataFrame\n",
        "import pandas as pd\n",
        "sal=pd.read_csv('report.csv',index_col=['REGION_NAME'])\n",
        "sal_sor=sal.sort_values(by=['SALARY'])\n",
        "df_sal=DataFrame(sal_sor)\n",
        "df_sal.reset_index(drop=True,inplace=True)\n",
        "print(df_sal)\n",
        "print(df_sal.loc[[11]])\n",
        "print(df_sal.loc[[18]])\n",
        "print(df_sal.loc[[58]])\n",
        "print(round(df_sal.SALARY.mean(),2))\n",
        "print(df_sal.SALARY.median())"
      ],
      "metadata": {
        "id": "7SqGEgtGqLVq"
      },
      "execution_count": null,
      "outputs": []
    },
    {
      "cell_type": "markdown",
      "source": [
        "PCA\n",
        "-----------------------------------------------------------------------------\n"
      ],
      "metadata": {
        "id": "-HfF56NUmbgK"
      }
    },
    {
      "cell_type": "markdown",
      "source": [
        "**Task 2.1**"
      ],
      "metadata": {
        "id": "HQVd8Wj-9rIP"
      }
    },
    {
      "cell_type": "code",
      "source": [
        "import numpy as np\n",
        "from pandas.core.indexes.api import all_indexes_same\n",
        "from pandas.core.frame import DataFrame\n",
        "import pandas as pd\n",
        "X=pd.read_csv('94_16.csv', header=None)\n",
        "from sklearn.decomposition import PCA\n",
        "X.head()"
      ],
      "metadata": {
        "id": "qHlmluWJQ0TB",
        "colab": {
          "base_uri": "https://localhost:8080/",
          "height": 270
        },
        "outputId": "ba5dcd4d-fdcf-4d7e-89fb-fe10f025522a"
      },
      "execution_count": null,
      "outputs": [
        {
          "output_type": "execute_result",
          "data": {
            "text/plain": [
              "           0          1          2          3          4          5  \\\n",
              "0  -7.551127 -16.501883  12.214029  -4.532918   7.195725 -10.695086   \n",
              "1  15.332258  -2.873288 -18.918645 -19.692909   9.338751  14.829184   \n",
              "2 -11.447178 -12.150761 -18.801647 -24.051650  15.213106  18.650944   \n",
              "3  16.922389  -4.922460 -21.959687 -19.735653   9.871696  15.691369   \n",
              "4  13.683867  -2.109327 -20.939583 -18.912884   7.441524  13.049203   \n",
              "\n",
              "           6          7          8          9  \n",
              "0 -21.060089 -23.861166  -2.754803  11.277232  \n",
              "1  -7.771072  -5.460143  14.528354 -13.885432  \n",
              "2   5.061457  -9.081610 -24.478108 -16.165841  \n",
              "3 -11.258013  -3.755190   9.735562 -10.922091  \n",
              "4  -8.486979  -7.611905  10.369139  -9.060181  "
            ],
            "text/html": [
              "\n",
              "  <div id=\"df-0cc21ef1-982f-45a6-8f43-317bc53ea7c3\">\n",
              "    <div class=\"colab-df-container\">\n",
              "      <div>\n",
              "<style scoped>\n",
              "    .dataframe tbody tr th:only-of-type {\n",
              "        vertical-align: middle;\n",
              "    }\n",
              "\n",
              "    .dataframe tbody tr th {\n",
              "        vertical-align: top;\n",
              "    }\n",
              "\n",
              "    .dataframe thead th {\n",
              "        text-align: right;\n",
              "    }\n",
              "</style>\n",
              "<table border=\"1\" class=\"dataframe\">\n",
              "  <thead>\n",
              "    <tr style=\"text-align: right;\">\n",
              "      <th></th>\n",
              "      <th>0</th>\n",
              "      <th>1</th>\n",
              "      <th>2</th>\n",
              "      <th>3</th>\n",
              "      <th>4</th>\n",
              "      <th>5</th>\n",
              "      <th>6</th>\n",
              "      <th>7</th>\n",
              "      <th>8</th>\n",
              "      <th>9</th>\n",
              "    </tr>\n",
              "  </thead>\n",
              "  <tbody>\n",
              "    <tr>\n",
              "      <th>0</th>\n",
              "      <td>-7.551127</td>\n",
              "      <td>-16.501883</td>\n",
              "      <td>12.214029</td>\n",
              "      <td>-4.532918</td>\n",
              "      <td>7.195725</td>\n",
              "      <td>-10.695086</td>\n",
              "      <td>-21.060089</td>\n",
              "      <td>-23.861166</td>\n",
              "      <td>-2.754803</td>\n",
              "      <td>11.277232</td>\n",
              "    </tr>\n",
              "    <tr>\n",
              "      <th>1</th>\n",
              "      <td>15.332258</td>\n",
              "      <td>-2.873288</td>\n",
              "      <td>-18.918645</td>\n",
              "      <td>-19.692909</td>\n",
              "      <td>9.338751</td>\n",
              "      <td>14.829184</td>\n",
              "      <td>-7.771072</td>\n",
              "      <td>-5.460143</td>\n",
              "      <td>14.528354</td>\n",
              "      <td>-13.885432</td>\n",
              "    </tr>\n",
              "    <tr>\n",
              "      <th>2</th>\n",
              "      <td>-11.447178</td>\n",
              "      <td>-12.150761</td>\n",
              "      <td>-18.801647</td>\n",
              "      <td>-24.051650</td>\n",
              "      <td>15.213106</td>\n",
              "      <td>18.650944</td>\n",
              "      <td>5.061457</td>\n",
              "      <td>-9.081610</td>\n",
              "      <td>-24.478108</td>\n",
              "      <td>-16.165841</td>\n",
              "    </tr>\n",
              "    <tr>\n",
              "      <th>3</th>\n",
              "      <td>16.922389</td>\n",
              "      <td>-4.922460</td>\n",
              "      <td>-21.959687</td>\n",
              "      <td>-19.735653</td>\n",
              "      <td>9.871696</td>\n",
              "      <td>15.691369</td>\n",
              "      <td>-11.258013</td>\n",
              "      <td>-3.755190</td>\n",
              "      <td>9.735562</td>\n",
              "      <td>-10.922091</td>\n",
              "    </tr>\n",
              "    <tr>\n",
              "      <th>4</th>\n",
              "      <td>13.683867</td>\n",
              "      <td>-2.109327</td>\n",
              "      <td>-20.939583</td>\n",
              "      <td>-18.912884</td>\n",
              "      <td>7.441524</td>\n",
              "      <td>13.049203</td>\n",
              "      <td>-8.486979</td>\n",
              "      <td>-7.611905</td>\n",
              "      <td>10.369139</td>\n",
              "      <td>-9.060181</td>\n",
              "    </tr>\n",
              "  </tbody>\n",
              "</table>\n",
              "</div>\n",
              "      <button class=\"colab-df-convert\" onclick=\"convertToInteractive('df-0cc21ef1-982f-45a6-8f43-317bc53ea7c3')\"\n",
              "              title=\"Convert this dataframe to an interactive table.\"\n",
              "              style=\"display:none;\">\n",
              "        \n",
              "  <svg xmlns=\"http://www.w3.org/2000/svg\" height=\"24px\"viewBox=\"0 0 24 24\"\n",
              "       width=\"24px\">\n",
              "    <path d=\"M0 0h24v24H0V0z\" fill=\"none\"/>\n",
              "    <path d=\"M18.56 5.44l.94 2.06.94-2.06 2.06-.94-2.06-.94-.94-2.06-.94 2.06-2.06.94zm-11 1L8.5 8.5l.94-2.06 2.06-.94-2.06-.94L8.5 2.5l-.94 2.06-2.06.94zm10 10l.94 2.06.94-2.06 2.06-.94-2.06-.94-.94-2.06-.94 2.06-2.06.94z\"/><path d=\"M17.41 7.96l-1.37-1.37c-.4-.4-.92-.59-1.43-.59-.52 0-1.04.2-1.43.59L10.3 9.45l-7.72 7.72c-.78.78-.78 2.05 0 2.83L4 21.41c.39.39.9.59 1.41.59.51 0 1.02-.2 1.41-.59l7.78-7.78 2.81-2.81c.8-.78.8-2.07 0-2.86zM5.41 20L4 18.59l7.72-7.72 1.47 1.35L5.41 20z\"/>\n",
              "  </svg>\n",
              "      </button>\n",
              "      \n",
              "  <style>\n",
              "    .colab-df-container {\n",
              "      display:flex;\n",
              "      flex-wrap:wrap;\n",
              "      gap: 12px;\n",
              "    }\n",
              "\n",
              "    .colab-df-convert {\n",
              "      background-color: #E8F0FE;\n",
              "      border: none;\n",
              "      border-radius: 50%;\n",
              "      cursor: pointer;\n",
              "      display: none;\n",
              "      fill: #1967D2;\n",
              "      height: 32px;\n",
              "      padding: 0 0 0 0;\n",
              "      width: 32px;\n",
              "    }\n",
              "\n",
              "    .colab-df-convert:hover {\n",
              "      background-color: #E2EBFA;\n",
              "      box-shadow: 0px 1px 2px rgba(60, 64, 67, 0.3), 0px 1px 3px 1px rgba(60, 64, 67, 0.15);\n",
              "      fill: #174EA6;\n",
              "    }\n",
              "\n",
              "    [theme=dark] .colab-df-convert {\n",
              "      background-color: #3B4455;\n",
              "      fill: #D2E3FC;\n",
              "    }\n",
              "\n",
              "    [theme=dark] .colab-df-convert:hover {\n",
              "      background-color: #434B5C;\n",
              "      box-shadow: 0px 1px 3px 1px rgba(0, 0, 0, 0.15);\n",
              "      filter: drop-shadow(0px 1px 2px rgba(0, 0, 0, 0.3));\n",
              "      fill: #FFFFFF;\n",
              "    }\n",
              "  </style>\n",
              "\n",
              "      <script>\n",
              "        const buttonEl =\n",
              "          document.querySelector('#df-0cc21ef1-982f-45a6-8f43-317bc53ea7c3 button.colab-df-convert');\n",
              "        buttonEl.style.display =\n",
              "          google.colab.kernel.accessAllowed ? 'block' : 'none';\n",
              "\n",
              "        async function convertToInteractive(key) {\n",
              "          const element = document.querySelector('#df-0cc21ef1-982f-45a6-8f43-317bc53ea7c3');\n",
              "          const dataTable =\n",
              "            await google.colab.kernel.invokeFunction('convertToInteractive',\n",
              "                                                     [key], {});\n",
              "          if (!dataTable) return;\n",
              "\n",
              "          const docLinkHtml = 'Like what you see? Visit the ' +\n",
              "            '<a target=\"_blank\" href=https://colab.research.google.com/notebooks/data_table.ipynb>data table notebook</a>'\n",
              "            + ' to learn more about interactive tables.';\n",
              "          element.innerHTML = '';\n",
              "          dataTable['output_type'] = 'display_data';\n",
              "          await google.colab.output.renderOutput(dataTable, element);\n",
              "          const docLink = document.createElement('div');\n",
              "          docLink.innerHTML = docLinkHtml;\n",
              "          element.appendChild(docLink);\n",
              "        }\n",
              "      </script>\n",
              "    </div>\n",
              "  </div>\n",
              "  "
            ]
          },
          "metadata": {},
          "execution_count": 1
        }
      ]
    },
    {
      "cell_type": "code",
      "source": [
        "pca = PCA(n_components=2, svd_solver='full')\n",
        "pca.fit(X)\n",
        "PCA(n_components=2, svd_solver='full')\n",
        "print(round(pca.explained_variance_ratio_[0]+pca.explained_variance_ratio_[1],3))\n",
        "print(pca.singular_values_)\n",
        "pca.transform(X)"
      ],
      "metadata": {
        "id": "TytcReQAtP-P"
      },
      "execution_count": null,
      "outputs": []
    },
    {
      "cell_type": "markdown",
      "source": [
        "-----------------------------------------------------\n",
        "**end**"
      ],
      "metadata": {
        "id": "CeQiOmv49j4Z"
      }
    },
    {
      "cell_type": "code",
      "source": [
        "from sklearn.preprocessing import StandardScaler\n",
        "X_scaled = StandardScaler().fit_transform(X)\n",
        "X_scaled[:10]"
      ],
      "metadata": {
        "id": "eIvSpmM1kS2P"
      },
      "execution_count": null,
      "outputs": []
    },
    {
      "cell_type": "code",
      "source": [
        "features = X_scaled.T\n",
        "cov_matrix = np.cov(features)\n",
        "cov_matrix[:10]"
      ],
      "metadata": {
        "id": "96VEdfQhklWb"
      },
      "execution_count": null,
      "outputs": []
    },
    {
      "cell_type": "code",
      "source": [
        "values, vectors = np.linalg.eig(cov_matrix)\n",
        "values[:10]"
      ],
      "metadata": {
        "id": "Vx4VTbEPmN00",
        "colab": {
          "base_uri": "https://localhost:8080/"
        },
        "outputId": "ad604006-3411-4fb5-d267-ddc1ef39fd18"
      },
      "execution_count": null,
      "outputs": [
        {
          "output_type": "execute_result",
          "data": {
            "text/plain": [
              "array([4.55424117, 2.16140856, 1.98108832, 1.26079859, 0.14079352,\n",
              "       0.02236544, 0.01035899, 0.01159949, 0.01414029, 0.01269716])"
            ]
          },
          "metadata": {},
          "execution_count": 5
        }
      ]
    },
    {
      "cell_type": "code",
      "source": [
        "vectors[:10]"
      ],
      "metadata": {
        "id": "TT2L9Lb-mV2r"
      },
      "execution_count": null,
      "outputs": []
    },
    {
      "cell_type": "code",
      "source": [
        "explained_variances = []\n",
        "for i in range(len(values)):\n",
        "    explained_variances.append(values[i] / np.sum(values))\n",
        " \n",
        "print(np.sum(explained_variances), '\\n', explained_variances)\n",
        "twoPCA=explained_variances[0]+explained_variances[1]\n",
        "print(round(twoPCA,3))"
      ],
      "metadata": {
        "id": "jb3J2dh6mvcl",
        "colab": {
          "base_uri": "https://localhost:8080/"
        },
        "outputId": "a302fbed-ad1e-4e38-f82c-a87c0045d6d7"
      },
      "execution_count": null,
      "outputs": [
        {
          "output_type": "stream",
          "name": "stdout",
          "text": [
            "1.0 \n",
            " [0.4478337153370541, 0.21253850844176747, 0.19480701791133942, 0.12397852780859839, 0.013844695882545917, 0.0021992682894891396, 0.0010186337948720843, 0.0011406166043886736, 0.001390461392319859, 0.0012485545376249815]\n",
            "0.66\n"
          ]
        }
      ]
    },
    {
      "cell_type": "code",
      "source": [
        "projected_1 = X_scaled.dot(vectors.T[0])\n",
        "projected_2 = X_scaled.dot(vectors.T[1])\n",
        "res = pd.DataFrame(projected_1, columns=['PC1'])\n",
        "res['PC2'] = projected_2\n",
        "res.head()"
      ],
      "metadata": {
        "id": "prZV3leFoAW-",
        "colab": {
          "base_uri": "https://localhost:8080/",
          "height": 206
        },
        "outputId": "4a9122e4-9e9e-4883-82e1-055d635086c3"
      },
      "execution_count": null,
      "outputs": [
        {
          "output_type": "execute_result",
          "data": {
            "text/plain": [
              "        PC1       PC2\n",
              "0  1.615365  1.609106\n",
              "1 -2.235491 -0.427008\n",
              "2 -2.632786  1.595951\n",
              "3 -2.300304 -0.277777\n",
              "4 -1.927848 -0.375722"
            ],
            "text/html": [
              "\n",
              "  <div id=\"df-c21a2eca-4def-4e5f-b592-a0be33f9947e\">\n",
              "    <div class=\"colab-df-container\">\n",
              "      <div>\n",
              "<style scoped>\n",
              "    .dataframe tbody tr th:only-of-type {\n",
              "        vertical-align: middle;\n",
              "    }\n",
              "\n",
              "    .dataframe tbody tr th {\n",
              "        vertical-align: top;\n",
              "    }\n",
              "\n",
              "    .dataframe thead th {\n",
              "        text-align: right;\n",
              "    }\n",
              "</style>\n",
              "<table border=\"1\" class=\"dataframe\">\n",
              "  <thead>\n",
              "    <tr style=\"text-align: right;\">\n",
              "      <th></th>\n",
              "      <th>PC1</th>\n",
              "      <th>PC2</th>\n",
              "    </tr>\n",
              "  </thead>\n",
              "  <tbody>\n",
              "    <tr>\n",
              "      <th>0</th>\n",
              "      <td>1.615365</td>\n",
              "      <td>1.609106</td>\n",
              "    </tr>\n",
              "    <tr>\n",
              "      <th>1</th>\n",
              "      <td>-2.235491</td>\n",
              "      <td>-0.427008</td>\n",
              "    </tr>\n",
              "    <tr>\n",
              "      <th>2</th>\n",
              "      <td>-2.632786</td>\n",
              "      <td>1.595951</td>\n",
              "    </tr>\n",
              "    <tr>\n",
              "      <th>3</th>\n",
              "      <td>-2.300304</td>\n",
              "      <td>-0.277777</td>\n",
              "    </tr>\n",
              "    <tr>\n",
              "      <th>4</th>\n",
              "      <td>-1.927848</td>\n",
              "      <td>-0.375722</td>\n",
              "    </tr>\n",
              "  </tbody>\n",
              "</table>\n",
              "</div>\n",
              "      <button class=\"colab-df-convert\" onclick=\"convertToInteractive('df-c21a2eca-4def-4e5f-b592-a0be33f9947e')\"\n",
              "              title=\"Convert this dataframe to an interactive table.\"\n",
              "              style=\"display:none;\">\n",
              "        \n",
              "  <svg xmlns=\"http://www.w3.org/2000/svg\" height=\"24px\"viewBox=\"0 0 24 24\"\n",
              "       width=\"24px\">\n",
              "    <path d=\"M0 0h24v24H0V0z\" fill=\"none\"/>\n",
              "    <path d=\"M18.56 5.44l.94 2.06.94-2.06 2.06-.94-2.06-.94-.94-2.06-.94 2.06-2.06.94zm-11 1L8.5 8.5l.94-2.06 2.06-.94-2.06-.94L8.5 2.5l-.94 2.06-2.06.94zm10 10l.94 2.06.94-2.06 2.06-.94-2.06-.94-.94-2.06-.94 2.06-2.06.94z\"/><path d=\"M17.41 7.96l-1.37-1.37c-.4-.4-.92-.59-1.43-.59-.52 0-1.04.2-1.43.59L10.3 9.45l-7.72 7.72c-.78.78-.78 2.05 0 2.83L4 21.41c.39.39.9.59 1.41.59.51 0 1.02-.2 1.41-.59l7.78-7.78 2.81-2.81c.8-.78.8-2.07 0-2.86zM5.41 20L4 18.59l7.72-7.72 1.47 1.35L5.41 20z\"/>\n",
              "  </svg>\n",
              "      </button>\n",
              "      \n",
              "  <style>\n",
              "    .colab-df-container {\n",
              "      display:flex;\n",
              "      flex-wrap:wrap;\n",
              "      gap: 12px;\n",
              "    }\n",
              "\n",
              "    .colab-df-convert {\n",
              "      background-color: #E8F0FE;\n",
              "      border: none;\n",
              "      border-radius: 50%;\n",
              "      cursor: pointer;\n",
              "      display: none;\n",
              "      fill: #1967D2;\n",
              "      height: 32px;\n",
              "      padding: 0 0 0 0;\n",
              "      width: 32px;\n",
              "    }\n",
              "\n",
              "    .colab-df-convert:hover {\n",
              "      background-color: #E2EBFA;\n",
              "      box-shadow: 0px 1px 2px rgba(60, 64, 67, 0.3), 0px 1px 3px 1px rgba(60, 64, 67, 0.15);\n",
              "      fill: #174EA6;\n",
              "    }\n",
              "\n",
              "    [theme=dark] .colab-df-convert {\n",
              "      background-color: #3B4455;\n",
              "      fill: #D2E3FC;\n",
              "    }\n",
              "\n",
              "    [theme=dark] .colab-df-convert:hover {\n",
              "      background-color: #434B5C;\n",
              "      box-shadow: 0px 1px 3px 1px rgba(0, 0, 0, 0.15);\n",
              "      filter: drop-shadow(0px 1px 2px rgba(0, 0, 0, 0.3));\n",
              "      fill: #FFFFFF;\n",
              "    }\n",
              "  </style>\n",
              "\n",
              "      <script>\n",
              "        const buttonEl =\n",
              "          document.querySelector('#df-c21a2eca-4def-4e5f-b592-a0be33f9947e button.colab-df-convert');\n",
              "        buttonEl.style.display =\n",
              "          google.colab.kernel.accessAllowed ? 'block' : 'none';\n",
              "\n",
              "        async function convertToInteractive(key) {\n",
              "          const element = document.querySelector('#df-c21a2eca-4def-4e5f-b592-a0be33f9947e');\n",
              "          const dataTable =\n",
              "            await google.colab.kernel.invokeFunction('convertToInteractive',\n",
              "                                                     [key], {});\n",
              "          if (!dataTable) return;\n",
              "\n",
              "          const docLinkHtml = 'Like what you see? Visit the ' +\n",
              "            '<a target=\"_blank\" href=https://colab.research.google.com/notebooks/data_table.ipynb>data table notebook</a>'\n",
              "            + ' to learn more about interactive tables.';\n",
              "          element.innerHTML = '';\n",
              "          dataTable['output_type'] = 'display_data';\n",
              "          await google.colab.output.renderOutput(dataTable, element);\n",
              "          const docLink = document.createElement('div');\n",
              "          docLink.innerHTML = docLinkHtml;\n",
              "          element.appendChild(docLink);\n",
              "        }\n",
              "      </script>\n",
              "    </div>\n",
              "  </div>\n",
              "  "
            ]
          },
          "metadata": {},
          "execution_count": 8
        }
      ]
    },
    {
      "cell_type": "code",
      "source": [
        "import matplotlib.pyplot as plt\n",
        "import seaborn as sns\n",
        "plt.figure(figsize=(20, 10))\n",
        "sns.scatterplot(res['PC1'], [0] * len(res), s=200)"
      ],
      "metadata": {
        "id": "5ZMtT4C0ohtc",
        "colab": {
          "base_uri": "https://localhost:8080/",
          "height": 521
        },
        "outputId": "4fe113db-3870-4e7e-85a1-ea044b848ed9"
      },
      "execution_count": null,
      "outputs": [
        {
          "output_type": "stream",
          "name": "stderr",
          "text": [
            "/usr/local/lib/python3.7/dist-packages/seaborn/_decorators.py:43: FutureWarning: Pass the following variables as keyword args: x, y. From version 0.12, the only valid positional argument will be `data`, and passing other arguments without an explicit keyword will result in an error or misinterpretation.\n",
            "  FutureWarning\n"
          ]
        },
        {
          "output_type": "execute_result",
          "data": {
            "text/plain": [
              "<matplotlib.axes._subplots.AxesSubplot at 0x7f1a53ee5c90>"
            ]
          },
          "metadata": {},
          "execution_count": 9
        },
        {
          "output_type": "display_data",
          "data": {
            "text/plain": [
              "<Figure size 1440x720 with 1 Axes>"
            ],
            "image/png": "[encoded data removed]"
          },
          "metadata": {
            "needs_background": "light"
          }
        }
      ]
    },
    {
      "cell_type": "code",
      "source": [
        "plt.figure(figsize=(20, 10))\n",
        "sns.scatterplot(res['PC1'], res['PC2'], [0] * len(res), s=100)\n"
      ],
      "metadata": {
        "id": "H7uNgkX4o4dM",
        "colab": {
          "base_uri": "https://localhost:8080/",
          "height": 522
        },
        "outputId": "6fdbd3e2-d348-4e0b-8a4e-c308f34ac1ca"
      },
      "execution_count": null,
      "outputs": [
        {
          "output_type": "stream",
          "name": "stderr",
          "text": [
            "/usr/local/lib/python3.7/dist-packages/seaborn/_decorators.py:43: FutureWarning: Pass the following variables as keyword args: x, y, hue. From version 0.12, the only valid positional argument will be `data`, and passing other arguments without an explicit keyword will result in an error or misinterpretation.\n",
            "  FutureWarning\n"
          ]
        },
        {
          "output_type": "execute_result",
          "data": {
            "text/plain": [
              "<matplotlib.axes._subplots.AxesSubplot at 0x7f1a53276110>"
            ]
          },
          "metadata": {},
          "execution_count": 10
        },
        {
          "output_type": "display_data",
          "data": {
            "text/plain": [
              "<Figure size 1440x720 with 1 Axes>"
            ],
            "image/png": "[encoded data removed]"
          },
          "metadata": {
            "needs_background": "light"
          }
        }
      ]
    },
    {
      "cell_type": "markdown",
      "source": [
        "**Task 2.2**"
      ],
      "metadata": {
        "id": "fA3H_eev-BeH"
      }
    },
    {
      "cell_type": "code",
      "source": [
        "Z=pd.read_csv('X_reduced.csv', header=None, delimiter=';', decimal='.')\n",
        "ld=pd.read_csv('X_loadings.csv', header=None, delimiter=';', decimal='.')\n",
        "Z.head()\n"
      ],
      "metadata": {
        "id": "cQ0WrfJFw65C",
        "colab": {
          "base_uri": "https://localhost:8080/",
          "height": 206
        },
        "outputId": "67e37d0c-37c7-4dcb-f2fe-d832146c343d"
      },
      "execution_count": null,
      "outputs": [
        {
          "output_type": "execute_result",
          "data": {
            "text/plain": [
              "            0          1          2          3         4        5          6  \\\n",
              "0 -125.669461 -81.766289 -37.088467  40.695399  6.672324  4.48691  30.673148   \n",
              "1 -125.669461 -81.766289 -37.088467  40.695399  6.672324  4.48691  30.673148   \n",
              "2 -125.669461 -81.766289 -37.088467  40.695399  6.672324  4.48691  30.673148   \n",
              "3 -125.669461 -81.766289 -37.088467  40.695399  6.672324  4.48691  30.673148   \n",
              "4 -125.669461 -81.766289 -37.088467  40.695399  6.672324  4.48691  30.673148   \n",
              "\n",
              "          7         8         9  \n",
              "0  2.551444  6.579712 -7.683517  \n",
              "1  2.551444  6.579712 -7.683517  \n",
              "2  2.551444  6.579712 -7.683517  \n",
              "3  2.551444  6.579712 -7.683517  \n",
              "4  2.551444  6.579712 -7.683517  "
            ],
            "text/html": [
              "\n",
              "  <div id=\"df-3c9f9a72-eead-4953-92a5-362a837bb414\">\n",
              "    <div class=\"colab-df-container\">\n",
              "      <div>\n",
              "<style scoped>\n",
              "    .dataframe tbody tr th:only-of-type {\n",
              "        vertical-align: middle;\n",
              "    }\n",
              "\n",
              "    .dataframe tbody tr th {\n",
              "        vertical-align: top;\n",
              "    }\n",
              "\n",
              "    .dataframe thead th {\n",
              "        text-align: right;\n",
              "    }\n",
              "</style>\n",
              "<table border=\"1\" class=\"dataframe\">\n",
              "  <thead>\n",
              "    <tr style=\"text-align: right;\">\n",
              "      <th></th>\n",
              "      <th>0</th>\n",
              "      <th>1</th>\n",
              "      <th>2</th>\n",
              "      <th>3</th>\n",
              "      <th>4</th>\n",
              "      <th>5</th>\n",
              "      <th>6</th>\n",
              "      <th>7</th>\n",
              "      <th>8</th>\n",
              "      <th>9</th>\n",
              "    </tr>\n",
              "  </thead>\n",
              "  <tbody>\n",
              "    <tr>\n",
              "      <th>0</th>\n",
              "      <td>-125.669461</td>\n",
              "      <td>-81.766289</td>\n",
              "      <td>-37.088467</td>\n",
              "      <td>40.695399</td>\n",
              "      <td>6.672324</td>\n",
              "      <td>4.48691</td>\n",
              "      <td>30.673148</td>\n",
              "      <td>2.551444</td>\n",
              "      <td>6.579712</td>\n",
              "      <td>-7.683517</td>\n",
              "    </tr>\n",
              "    <tr>\n",
              "      <th>1</th>\n",
              "      <td>-125.669461</td>\n",
              "      <td>-81.766289</td>\n",
              "      <td>-37.088467</td>\n",
              "      <td>40.695399</td>\n",
              "      <td>6.672324</td>\n",
              "      <td>4.48691</td>\n",
              "      <td>30.673148</td>\n",
              "      <td>2.551444</td>\n",
              "      <td>6.579712</td>\n",
              "      <td>-7.683517</td>\n",
              "    </tr>\n",
              "    <tr>\n",
              "      <th>2</th>\n",
              "      <td>-125.669461</td>\n",
              "      <td>-81.766289</td>\n",
              "      <td>-37.088467</td>\n",
              "      <td>40.695399</td>\n",
              "      <td>6.672324</td>\n",
              "      <td>4.48691</td>\n",
              "      <td>30.673148</td>\n",
              "      <td>2.551444</td>\n",
              "      <td>6.579712</td>\n",
              "      <td>-7.683517</td>\n",
              "    </tr>\n",
              "    <tr>\n",
              "      <th>3</th>\n",
              "      <td>-125.669461</td>\n",
              "      <td>-81.766289</td>\n",
              "      <td>-37.088467</td>\n",
              "      <td>40.695399</td>\n",
              "      <td>6.672324</td>\n",
              "      <td>4.48691</td>\n",
              "      <td>30.673148</td>\n",
              "      <td>2.551444</td>\n",
              "      <td>6.579712</td>\n",
              "      <td>-7.683517</td>\n",
              "    </tr>\n",
              "    <tr>\n",
              "      <th>4</th>\n",
              "      <td>-125.669461</td>\n",
              "      <td>-81.766289</td>\n",
              "      <td>-37.088467</td>\n",
              "      <td>40.695399</td>\n",
              "      <td>6.672324</td>\n",
              "      <td>4.48691</td>\n",
              "      <td>30.673148</td>\n",
              "      <td>2.551444</td>\n",
              "      <td>6.579712</td>\n",
              "      <td>-7.683517</td>\n",
              "    </tr>\n",
              "  </tbody>\n",
              "</table>\n",
              "</div>\n",
              "      <button class=\"colab-df-convert\" onclick=\"convertToInteractive('df-3c9f9a72-eead-4953-92a5-362a837bb414')\"\n",
              "              title=\"Convert this dataframe to an interactive table.\"\n",
              "              style=\"display:none;\">\n",
              "        \n",
              "  <svg xmlns=\"http://www.w3.org/2000/svg\" height=\"24px\"viewBox=\"0 0 24 24\"\n",
              "       width=\"24px\">\n",
              "    <path d=\"M0 0h24v24H0V0z\" fill=\"none\"/>\n",
              "    <path d=\"M18.56 5.44l.94 2.06.94-2.06 2.06-.94-2.06-.94-.94-2.06-.94 2.06-2.06.94zm-11 1L8.5 8.5l.94-2.06 2.06-.94-2.06-.94L8.5 2.5l-.94 2.06-2.06.94zm10 10l.94 2.06.94-2.06 2.06-.94-2.06-.94-.94-2.06-.94 2.06-2.06.94z\"/><path d=\"M17.41 7.96l-1.37-1.37c-.4-.4-.92-.59-1.43-.59-.52 0-1.04.2-1.43.59L10.3 9.45l-7.72 7.72c-.78.78-.78 2.05 0 2.83L4 21.41c.39.39.9.59 1.41.59.51 0 1.02-.2 1.41-.59l7.78-7.78 2.81-2.81c.8-.78.8-2.07 0-2.86zM5.41 20L4 18.59l7.72-7.72 1.47 1.35L5.41 20z\"/>\n",
              "  </svg>\n",
              "      </button>\n",
              "      \n",
              "  <style>\n",
              "    .colab-df-container {\n",
              "      display:flex;\n",
              "      flex-wrap:wrap;\n",
              "      gap: 12px;\n",
              "    }\n",
              "\n",
              "    .colab-df-convert {\n",
              "      background-color: #E8F0FE;\n",
              "      border: none;\n",
              "      border-radius: 50%;\n",
              "      cursor: pointer;\n",
              "      display: none;\n",
              "      fill: #1967D2;\n",
              "      height: 32px;\n",
              "      padding: 0 0 0 0;\n",
              "      width: 32px;\n",
              "    }\n",
              "\n",
              "    .colab-df-convert:hover {\n",
              "      background-color: #E2EBFA;\n",
              "      box-shadow: 0px 1px 2px rgba(60, 64, 67, 0.3), 0px 1px 3px 1px rgba(60, 64, 67, 0.15);\n",
              "      fill: #174EA6;\n",
              "    }\n",
              "\n",
              "    [theme=dark] .colab-df-convert {\n",
              "      background-color: #3B4455;\n",
              "      fill: #D2E3FC;\n",
              "    }\n",
              "\n",
              "    [theme=dark] .colab-df-convert:hover {\n",
              "      background-color: #434B5C;\n",
              "      box-shadow: 0px 1px 3px 1px rgba(0, 0, 0, 0.15);\n",
              "      filter: drop-shadow(0px 1px 2px rgba(0, 0, 0, 0.3));\n",
              "      fill: #FFFFFF;\n",
              "    }\n",
              "  </style>\n",
              "\n",
              "      <script>\n",
              "        const buttonEl =\n",
              "          document.querySelector('#df-3c9f9a72-eead-4953-92a5-362a837bb414 button.colab-df-convert');\n",
              "        buttonEl.style.display =\n",
              "          google.colab.kernel.accessAllowed ? 'block' : 'none';\n",
              "\n",
              "        async function convertToInteractive(key) {\n",
              "          const element = document.querySelector('#df-3c9f9a72-eead-4953-92a5-362a837bb414');\n",
              "          const dataTable =\n",
              "            await google.colab.kernel.invokeFunction('convertToInteractive',\n",
              "                                                     [key], {});\n",
              "          if (!dataTable) return;\n",
              "\n",
              "          const docLinkHtml = 'Like what you see? Visit the ' +\n",
              "            '<a target=\"_blank\" href=https://colab.research.google.com/notebooks/data_table.ipynb>data table notebook</a>'\n",
              "            + ' to learn more about interactive tables.';\n",
              "          element.innerHTML = '';\n",
              "          dataTable['output_type'] = 'display_data';\n",
              "          await google.colab.output.renderOutput(dataTable, element);\n",
              "          const docLink = document.createElement('div');\n",
              "          docLink.innerHTML = docLinkHtml;\n",
              "          element.appendChild(docLink);\n",
              "        }\n",
              "      </script>\n",
              "    </div>\n",
              "  </div>\n",
              "  "
            ]
          },
          "metadata": {},
          "execution_count": 11
        }
      ]
    },
    {
      "cell_type": "code",
      "source": [
        "ld.head()"
      ],
      "metadata": {
        "id": "JzV-3lJYxUxn",
        "colab": {
          "base_uri": "https://localhost:8080/",
          "height": 357
        },
        "outputId": "04084a9d-a701-4712-84a4-e3f01544a75d"
      },
      "execution_count": null,
      "outputs": [
        {
          "output_type": "execute_result",
          "data": {
            "text/plain": [
              "              0             1             2             3             4  \\\n",
              "0 -4.918795e-18 -4.145982e-18 -6.419095e-18  9.813703e-18  2.018690e-18   \n",
              "1 -0.000000e+00  5.551115e-17 -5.551115e-17  8.326673e-17  6.938894e-17   \n",
              "2 -5.551115e-17  4.163336e-17  5.551115e-17 -1.110223e-16  0.000000e+00   \n",
              "3 -0.000000e+00 -1.110223e-16 -0.000000e+00 -6.938894e-17 -7.632783e-17   \n",
              "4 -0.000000e+00 -0.000000e+00 -0.000000e+00  5.551115e-17 -1.734723e-17   \n",
              "\n",
              "              5             6             7             8             9  \n",
              "0  1.539617e-18  1.188176e-17  1.346750e-18  4.033196e-18 -5.370064e-18  \n",
              "1 -1.387779e-17 -1.110223e-16 -1.908196e-17 -1.387779e-16  9.714451e-17  \n",
              "2  6.245005e-17  1.110223e-16  3.469447e-17 -8.326673e-17  2.775558e-17  \n",
              "3 -3.122502e-17 -1.110223e-16  2.775558e-17 -6.938894e-17  2.775558e-17  \n",
              "4 -4.510281e-17 -5.551115e-17  4.857226e-17  2.775558e-17  5.551115e-17  "
            ],
            "text/html": [
              "\n",
              "  <div id=\"df-054d872e-5945-43d6-b38e-3c33d8ba47e4\">\n",
              "    <div class=\"colab-df-container\">\n",
              "      <div>\n",
              "<style scoped>\n",
              "    .dataframe tbody tr th:only-of-type {\n",
              "        vertical-align: middle;\n",
              "    }\n",
              "\n",
              "    .dataframe tbody tr th {\n",
              "        vertical-align: top;\n",
              "    }\n",
              "\n",
              "    .dataframe thead th {\n",
              "        text-align: right;\n",
              "    }\n",
              "</style>\n",
              "<table border=\"1\" class=\"dataframe\">\n",
              "  <thead>\n",
              "    <tr style=\"text-align: right;\">\n",
              "      <th></th>\n",
              "      <th>0</th>\n",
              "      <th>1</th>\n",
              "      <th>2</th>\n",
              "      <th>3</th>\n",
              "      <th>4</th>\n",
              "      <th>5</th>\n",
              "      <th>6</th>\n",
              "      <th>7</th>\n",
              "      <th>8</th>\n",
              "      <th>9</th>\n",
              "    </tr>\n",
              "  </thead>\n",
              "  <tbody>\n",
              "    <tr>\n",
              "      <th>0</th>\n",
              "      <td>-4.918795e-18</td>\n",
              "      <td>-4.145982e-18</td>\n",
              "      <td>-6.419095e-18</td>\n",
              "      <td>9.813703e-18</td>\n",
              "      <td>2.018690e-18</td>\n",
              "      <td>1.539617e-18</td>\n",
              "      <td>1.188176e-17</td>\n",
              "      <td>1.346750e-18</td>\n",
              "      <td>4.033196e-18</td>\n",
              "      <td>-5.370064e-18</td>\n",
              "    </tr>\n",
              "    <tr>\n",
              "      <th>1</th>\n",
              "      <td>-0.000000e+00</td>\n",
              "      <td>5.551115e-17</td>\n",
              "      <td>-5.551115e-17</td>\n",
              "      <td>8.326673e-17</td>\n",
              "      <td>6.938894e-17</td>\n",
              "      <td>-1.387779e-17</td>\n",
              "      <td>-1.110223e-16</td>\n",
              "      <td>-1.908196e-17</td>\n",
              "      <td>-1.387779e-16</td>\n",
              "      <td>9.714451e-17</td>\n",
              "    </tr>\n",
              "    <tr>\n",
              "      <th>2</th>\n",
              "      <td>-5.551115e-17</td>\n",
              "      <td>4.163336e-17</td>\n",
              "      <td>5.551115e-17</td>\n",
              "      <td>-1.110223e-16</td>\n",
              "      <td>0.000000e+00</td>\n",
              "      <td>6.245005e-17</td>\n",
              "      <td>1.110223e-16</td>\n",
              "      <td>3.469447e-17</td>\n",
              "      <td>-8.326673e-17</td>\n",
              "      <td>2.775558e-17</td>\n",
              "    </tr>\n",
              "    <tr>\n",
              "      <th>3</th>\n",
              "      <td>-0.000000e+00</td>\n",
              "      <td>-1.110223e-16</td>\n",
              "      <td>-0.000000e+00</td>\n",
              "      <td>-6.938894e-17</td>\n",
              "      <td>-7.632783e-17</td>\n",
              "      <td>-3.122502e-17</td>\n",
              "      <td>-1.110223e-16</td>\n",
              "      <td>2.775558e-17</td>\n",
              "      <td>-6.938894e-17</td>\n",
              "      <td>2.775558e-17</td>\n",
              "    </tr>\n",
              "    <tr>\n",
              "      <th>4</th>\n",
              "      <td>-0.000000e+00</td>\n",
              "      <td>-0.000000e+00</td>\n",
              "      <td>-0.000000e+00</td>\n",
              "      <td>5.551115e-17</td>\n",
              "      <td>-1.734723e-17</td>\n",
              "      <td>-4.510281e-17</td>\n",
              "      <td>-5.551115e-17</td>\n",
              "      <td>4.857226e-17</td>\n",
              "      <td>2.775558e-17</td>\n",
              "      <td>5.551115e-17</td>\n",
              "    </tr>\n",
              "  </tbody>\n",
              "</table>\n",
              "</div>\n",
              "      <button class=\"colab-df-convert\" onclick=\"convertToInteractive('df-054d872e-5945-43d6-b38e-3c33d8ba47e4')\"\n",
              "              title=\"Convert this dataframe to an interactive table.\"\n",
              "              style=\"display:none;\">\n",
              "        \n",
              "  <svg xmlns=\"http://www.w3.org/2000/svg\" height=\"24px\"viewBox=\"0 0 24 24\"\n",
              "       width=\"24px\">\n",
              "    <path d=\"M0 0h24v24H0V0z\" fill=\"none\"/>\n",
              "    <path d=\"M18.56 5.44l.94 2.06.94-2.06 2.06-.94-2.06-.94-.94-2.06-.94 2.06-2.06.94zm-11 1L8.5 8.5l.94-2.06 2.06-.94-2.06-.94L8.5 2.5l-.94 2.06-2.06.94zm10 10l.94 2.06.94-2.06 2.06-.94-2.06-.94-.94-2.06-.94 2.06-2.06.94z\"/><path d=\"M17.41 7.96l-1.37-1.37c-.4-.4-.92-.59-1.43-.59-.52 0-1.04.2-1.43.59L10.3 9.45l-7.72 7.72c-.78.78-.78 2.05 0 2.83L4 21.41c.39.39.9.59 1.41.59.51 0 1.02-.2 1.41-.59l7.78-7.78 2.81-2.81c.8-.78.8-2.07 0-2.86zM5.41 20L4 18.59l7.72-7.72 1.47 1.35L5.41 20z\"/>\n",
              "  </svg>\n",
              "      </button>\n",
              "      \n",
              "  <style>\n",
              "    .colab-df-container {\n",
              "      display:flex;\n",
              "      flex-wrap:wrap;\n",
              "      gap: 12px;\n",
              "    }\n",
              "\n",
              "    .colab-df-convert {\n",
              "      background-color: #E8F0FE;\n",
              "      border: none;\n",
              "      border-radius: 50%;\n",
              "      cursor: pointer;\n",
              "      display: none;\n",
              "      fill: #1967D2;\n",
              "      height: 32px;\n",
              "      padding: 0 0 0 0;\n",
              "      width: 32px;\n",
              "    }\n",
              "\n",
              "    .colab-df-convert:hover {\n",
              "      background-color: #E2EBFA;\n",
              "      box-shadow: 0px 1px 2px rgba(60, 64, 67, 0.3), 0px 1px 3px 1px rgba(60, 64, 67, 0.15);\n",
              "      fill: #174EA6;\n",
              "    }\n",
              "\n",
              "    [theme=dark] .colab-df-convert {\n",
              "      background-color: #3B4455;\n",
              "      fill: #D2E3FC;\n",
              "    }\n",
              "\n",
              "    [theme=dark] .colab-df-convert:hover {\n",
              "      background-color: #434B5C;\n",
              "      box-shadow: 0px 1px 3px 1px rgba(0, 0, 0, 0.15);\n",
              "      filter: drop-shadow(0px 1px 2px rgba(0, 0, 0, 0.3));\n",
              "      fill: #FFFFFF;\n",
              "    }\n",
              "  </style>\n",
              "\n",
              "      <script>\n",
              "        const buttonEl =\n",
              "          document.querySelector('#df-054d872e-5945-43d6-b38e-3c33d8ba47e4 button.colab-df-convert');\n",
              "        buttonEl.style.display =\n",
              "          google.colab.kernel.accessAllowed ? 'block' : 'none';\n",
              "\n",
              "        async function convertToInteractive(key) {\n",
              "          const element = document.querySelector('#df-054d872e-5945-43d6-b38e-3c33d8ba47e4');\n",
              "          const dataTable =\n",
              "            await google.colab.kernel.invokeFunction('convertToInteractive',\n",
              "                                                     [key], {});\n",
              "          if (!dataTable) return;\n",
              "\n",
              "          const docLinkHtml = 'Like what you see? Visit the ' +\n",
              "            '<a target=\"_blank\" href=https://colab.research.google.com/notebooks/data_table.ipynb>data table notebook</a>'\n",
              "            + ' to learn more about interactive tables.';\n",
              "          element.innerHTML = '';\n",
              "          dataTable['output_type'] = 'display_data';\n",
              "          await google.colab.output.renderOutput(dataTable, element);\n",
              "          const docLink = document.createElement('div');\n",
              "          docLink.innerHTML = docLinkHtml;\n",
              "          element.appendChild(docLink);\n",
              "        }\n",
              "      </script>\n",
              "    </div>\n",
              "  </div>\n",
              "  "
            ]
          },
          "metadata": {},
          "execution_count": 12
        }
      ]
    },
    {
      "cell_type": "code",
      "source": [
        "Z_ar=Z.values\n",
        "ld_ar=ld.values"
      ],
      "metadata": {
        "id": "mu9vRmwy0Nqt"
      },
      "execution_count": null,
      "outputs": []
    },
    {
      "cell_type": "code",
      "source": [
        "ld_ar_transpose = ld_ar.transpose()"
      ],
      "metadata": {
        "id": "VytHAvXE0iRH"
      },
      "execution_count": null,
      "outputs": []
    },
    {
      "cell_type": "code",
      "source": [
        "m3=np. dot(Z_ar,ld_ar_transpose)"
      ],
      "metadata": {
        "id": "qkMWk6MJ1Aas"
      },
      "execution_count": null,
      "outputs": []
    },
    {
      "cell_type": "code",
      "source": [
        "ds=pd.DataFrame(m3)"
      ],
      "metadata": {
        "id": "BhBE1zl_2B70"
      },
      "execution_count": null,
      "outputs": []
    },
    {
      "cell_type": "code",
      "source": [
        "from matplotlib import pyplot as plt\n",
        "%matplotlib inline\n",
        "plt.gray()\n",
        "plt.matshow(ds)"
      ],
      "metadata": {
        "colab": {
          "base_uri": "https://localhost:8080/",
          "height": 310
        },
        "id": "nk4ie8GI2Ad_",
        "outputId": "efa6957e-f318-4227-fe0f-69f4a7756187"
      },
      "execution_count": null,
      "outputs": [
        {
          "output_type": "execute_result",
          "data": {
            "text/plain": [
              "<matplotlib.image.AxesImage at 0x7f1a531d0d10>"
            ]
          },
          "metadata": {},
          "execution_count": 17
        },
        {
          "output_type": "display_data",
          "data": {
            "text/plain": [
              "<Figure size 432x288 with 0 Axes>"
            ]
          },
          "metadata": {}
        },
        {
          "output_type": "display_data",
          "data": {
            "text/plain": [
              "<Figure size 288x288 with 1 Axes>"
            ],
            "image/png": "[encoded data removed]"
          },
          "metadata": {
            "needs_background": "light"
          }
        }
      ]
    },
    {
      "cell_type": "markdown",
      "source": [
        "-------------------------------\n",
        "**end**"
      ],
      "metadata": {
        "id": "CO-qmXXz_DAa"
      }
    },
    {
      "cell_type": "markdown",
      "source": [
        "\n",
        "**LINEAR REGRESSION**\n",
        "-------------------------------------------------------------------------------\n"
      ],
      "metadata": {
        "id": "83CFv5W7AXy0"
      }
    },
    {
      "cell_type": "markdown",
      "source": [
        "Singular"
      ],
      "metadata": {
        "id": "xANEyG-cAeM_"
      }
    },
    {
      "cell_type": "code",
      "source": [
        "from sklearn.linear_model import LinearRegression"
      ],
      "metadata": {
        "id": "pYYOzqJ_3neP"
      },
      "execution_count": null,
      "outputs": []
    },
    {
      "cell_type": "code",
      "source": [
        "from pandas.core.indexes.api import all_indexes_same\n",
        "from pandas.core.frame import DataFrame\n",
        "import pandas as pd\n",
        "import numpy as np\n",
        "\n",
        "X=pd.read_csv('RegrDataPy.csv', delimiter=',',decimal='.', usecols=['X'])\n",
        "y=pd.read_csv('RegrDataPy.csv', delimiter=',',decimal='.', usecols=['Y'])"
      ],
      "metadata": {
        "id": "xfaaTI2T7Erd"
      },
      "execution_count": null,
      "outputs": []
    },
    {
      "cell_type": "code",
      "source": [
        "reg = LinearRegression().fit(X,y)\n",
        "import math as mt\n",
        "print(X.mean())\n",
        "print(y.mean())\n",
        "print(round(float(reg.coef_),2))\n",
        "print(round(float(reg.intercept_),2))\n",
        "print(round(reg.score(X,y),2))"
      ],
      "metadata": {
        "colab": {
          "base_uri": "https://localhost:8080/"
        },
        "id": "AP47KVQn-P9j",
        "outputId": "115b415f-c550-4775-d716-d7c02585c61f"
      },
      "execution_count": null,
      "outputs": [
        {
          "output_type": "stream",
          "name": "stdout",
          "text": [
            "X    13.1\n",
            "dtype: float64\n",
            "Y    28.5\n",
            "dtype: float64\n",
            "1.67\n",
            "6.62\n",
            "0.8\n"
          ]
        }
      ]
    },
    {
      "cell_type": "markdown",
      "source": [
        "Multiple"
      ],
      "metadata": {
        "id": "SQWSzqJOAiUb"
      }
    },
    {
      "cell_type": "code",
      "source": [
        "df=pd.read_csv('candy-data.csv')\n",
        "X = df[['competitorname','chocolate', 'fruity', 'caramel', 'peanutyalmondy', 'nougat', 'crispedricewafer', 'hard', 'bar', 'pluribus', 'sugarpercent', 'pricepercent']]\n",
        "y = df[['competitorname','winpercent']]\n",
        "y = y.set_index(\"competitorname\")\n",
        "y = y.drop(['Air Heads', 'Kit Kat'], axis=0)\n",
        "y = y.reset_index()\n",
        "y = y.drop(\"competitorname\",axis=1)"
      ],
      "metadata": {
        "id": "9C9yxDX7Ak-V"
      },
      "execution_count": null,
      "outputs": []
    },
    {
      "cell_type": "code",
      "source": [
        "X = X.set_index(\"competitorname\")\n",
        "T1 = X.loc[['Air Heads']]\n",
        "T2 = X.loc[['Kit Kat']]\n",
        "X = X.drop(['Air Heads', 'Kit Kat'], axis=0)\n",
        "X = X.reset_index()\n",
        "X = X.drop(\"competitorname\",axis=1)\n",
        "T1 = T1.reset_index()\n",
        "T1 = T1.drop(\"competitorname\",axis=1)\n",
        "T2 = T2.reset_index()\n",
        "T2 = T2.drop(\"competitorname\",axis=1)"
      ],
      "metadata": {
        "id": "IYYxINr9gRnK"
      },
      "execution_count": null,
      "outputs": []
    },
    {
      "cell_type": "code",
      "source": [
        "regr = LinearRegression().fit(X,y)\n",
        "T1 = regr.predict(T1)\n",
        "T2 = regr.predict(T2)\n",
        "testcandy = regr.predict([[1, 1, 1, 0, 1, 0, 1, 1, 1, 0.669, 0.456]])"
      ],
      "metadata": {
        "colab": {
          "base_uri": "https://localhost:8080/"
        },
        "id": "D0COhBsEEMwP",
        "outputId": "21b4a608-db5e-4d13-f890-19d62b063408"
      },
      "execution_count": null,
      "outputs": [
        {
          "output_type": "stream",
          "name": "stderr",
          "text": [
            "/usr/local/lib/python3.7/dist-packages/sklearn/base.py:451: UserWarning: X does not have valid feature names, but LinearRegression was fitted with feature names\n",
            "  \"X does not have valid feature names, but\"\n"
          ]
        }
      ]
    },
    {
      "cell_type": "code",
      "source": [
        "print(round(float(T1),3), round(float(T2),3), round(float(testcandy),3))"
      ],
      "metadata": {
        "colab": {
          "base_uri": "https://localhost:8080/"
        },
        "id": "fQjv5OA2GmH5",
        "outputId": "d90b4e30-bcf0-497f-83ba-90c680ab7201"
      },
      "execution_count": null,
      "outputs": [
        {
          "output_type": "stream",
          "name": "stdout",
          "text": [
            "52.896 62.365 61.269\n"
          ]
        }
      ]
    },
    {
      "cell_type": "markdown",
      "source": [
        "**bold text**\n",
        "\n",
        "\n",
        "\n",
        "k-NN\n",
        "--------------------------------------------------------------------------------\n"
      ],
      "metadata": {
        "id": "5guEXQl7NUXI"
      }
    },
    {
      "cell_type": "markdown",
      "source": [
        "Task 1"
      ],
      "metadata": {
        "id": "PDeNoyD0KPuC"
      }
    },
    {
      "cell_type": "code",
      "source": [
        "from sklearn.neighbors import KNeighborsClassifier\n",
        "from sklearn.neighbors import NearestNeighbors\n",
        "from pandas.core.indexes.api import all_indexes_same\n",
        "from pandas.core.frame import DataFrame\n",
        "import numpy as np\n",
        "import matplotlib.pyplot as plt\n",
        "import pandas as pd"
      ],
      "metadata": {
        "id": "dAtL5mScNh8Y"
      },
      "execution_count": null,
      "outputs": []
    },
    {
      "cell_type": "code",
      "source": [
        "ds=pd.read_csv('knn_py.csv', delimiter=',',decimal='.', )\n",
        "X = ds[['X','Y']].values\n",
        "y = ds['Class'].values"
      ],
      "metadata": {
        "id": "QAV2gcAs-ygz"
      },
      "execution_count": null,
      "outputs": []
    },
    {
      "cell_type": "code",
      "source": [
        "neigh=NearestNeighbors(n_neighbors=3,p=2)\n",
        "neigh.fit(X,y)\n",
        "print(neigh.kneighbors([[30.,30.]]))\n",
        "neigh=NearestNeighbors(n_neighbors=3,p=1)\n",
        "neigh.fit(X,y)\n",
        "print(neigh.kneighbors([[30.,30.]]))"
      ],
      "metadata": {
        "colab": {
          "base_uri": "https://localhost:8080/"
        },
        "id": "T3mK31y4AJiE",
        "outputId": "3d94396f-941a-4fc9-fa5e-58aefe9aff04"
      },
      "execution_count": null,
      "outputs": [
        {
          "output_type": "stream",
          "name": "stdout",
          "text": [
            "(array([[21.63330765, 31.2409987 , 48.0416486 ]]), array([[4, 2, 1]]))\n",
            "(array([[30., 44., 50.]]), array([[4, 2, 1]]))\n"
          ]
        }
      ]
    },
    {
      "cell_type": "code",
      "source": [
        "neigh = KNeighborsClassifier(n_neighbors=3,p=2)\n",
        "neigh.fit(X, y)\n",
        "print(neigh.predict([[30.,30.]]))\n",
        "neigh = KNeighborsClassifier(n_neighbors=3,p=1)\n",
        "neigh.fit(X, y)\n",
        "print(neigh.predict([[30.,30.]]))"
      ],
      "metadata": {
        "colab": {
          "base_uri": "https://localhost:8080/"
        },
        "id": "xGfHIKQuJryv",
        "outputId": "543b2817-7249-4261-9d45-b4d14694ba52"
      },
      "execution_count": null,
      "outputs": [
        {
          "output_type": "stream",
          "name": "stdout",
          "text": [
            "[1]\n",
            "[1]\n"
          ]
        }
      ]
    },
    {
      "cell_type": "markdown",
      "source": [
        "Logistic Regression\n",
        "----------------------------"
      ],
      "metadata": {
        "id": "a-IjyP489xgN"
      }
    },
    {
      "cell_type": "markdown",
      "source": [
        "Task 6"
      ],
      "metadata": {
        "id": "AL71q5-5-G4k"
      }
    },
    {
      "cell_type": "code",
      "source": [
        "import sklearn\n",
        "from sklearn.linear_model import LogisticRegression\n",
        "from sklearn import metrics\n",
        "from sklearn.metrics import roc_curve\n",
        "from sklearn.metrics import roc_auc_score\n",
        "from sklearn.metrics import precision_score\n",
        "from sklearn.metrics import recall_score\n",
        "from matplotlib import pyplot\n",
        "import pandas as pd\n",
        "import numpy as np"
      ],
      "metadata": {
        "id": "NsZuyeU796eE"
      },
      "execution_count": null,
      "outputs": []
    },
    {
      "cell_type": "code",
      "source": [
        "X = pd.read_csv('candy-data.csv', usecols=['competitorname','chocolate', 'fruity', 'caramel', 'peanutyalmondy', 'nougat', 'crispedricewafer', 'hard', 'bar', 'pluribus', 'sugarpercent', 'pricepercent'])\n",
        "X = X.set_index(\"competitorname\")\n",
        "X = X.drop([\"Nestle Crunch\", \"Skittles wildberry\", \"Sour Patch Tricksters\"], axis=0)\n",
        "X = X.reset_index()\n",
        "X = X.drop(\"competitorname\",axis=1)\n",
        "y= pd.read_csv('candy-data.csv', usecols=['competitorname','Y'])\n",
        "y = y.set_index(\"competitorname\")\n",
        "y = y.drop([\"Nestle Crunch\", \"Skittles wildberry\", \"Sour Patch Tricksters\"], axis=0)\n",
        "y = y.reset_index()\n",
        "y = y.drop(\"competitorname\",axis=1)"
      ],
      "metadata": {
        "id": "c5JNsdod96eF"
      },
      "execution_count": null,
      "outputs": []
    },
    {
      "cell_type": "code",
      "source": [
        "TM = LogisticRegression(random_state = 2019, solver = 'lbfgs').fit(X, y)"
      ],
      "metadata": {
        "colab": {
          "base_uri": "https://localhost:8080/"
        },
        "id": "AXVs4ZZa96eF",
        "outputId": "1818382c-fe43-4d3f-d733-e3391ad946a8"
      },
      "execution_count": null,
      "outputs": [
        {
          "output_type": "stream",
          "name": "stderr",
          "text": [
            "/usr/local/lib/python3.7/dist-packages/sklearn/utils/validation.py:993: DataConversionWarning: A column-vector y was passed when a 1d array was expected. Please change the shape of y to (n_samples, ), for example using ravel().\n",
            "  y = column_or_1d(y, warn=True)\n"
          ]
        }
      ]
    },
    {
      "cell_type": "code",
      "source": [
        "Xt = pd.read_csv('candy-test.csv', usecols=['competitorname','chocolate', 'fruity', 'caramel', 'peanutyalmondy', 'nougat', 'crispedricewafer', 'hard', 'bar', 'pluribus', 'sugarpercent', 'pricepercent'])\n",
        "yt = pd.read_csv('candy-test.csv', usecols=['competitorname', 'Y'])\n",
        "Xt = Xt.set_index(\"competitorname\")\n",
        "yt = yt.set_index(\"competitorname\")\n"
      ],
      "metadata": {
        "id": "jd7XN7gW96eG"
      },
      "execution_count": null,
      "outputs": []
    },
    {
      "cell_type": "code",
      "source": [
        "P1 = Xt.loc[['Trolli Sour Bites']]\n",
        "P2 = Xt.loc[['Twizzlers']]"
      ],
      "metadata": {
        "id": "9jKFj20v7i2w"
      },
      "execution_count": null,
      "outputs": []
    },
    {
      "cell_type": "code",
      "source": [
        "P1p = TM.predict_proba(P1)[:,1]\n",
        "P2p = TM.predict_proba(P2)[:,1]\n",
        "print('1st candy Prob: ', P1p, '\\n','2nd candy Prob: ', P2p)"
      ],
      "metadata": {
        "colab": {
          "base_uri": "https://localhost:8080/"
        },
        "id": "9iPfKVCX8hR2",
        "outputId": "de569005-5940-41b9-b543-a3895cf9f749"
      },
      "execution_count": null,
      "outputs": [
        {
          "output_type": "stream",
          "name": "stdout",
          "text": [
            "1st candy Prob:  [0.29167789] \n",
            " 2nd candy Prob:  [0.3037946]\n"
          ]
        }
      ]
    },
    {
      "cell_type": "code",
      "source": [
        "yc = TM.predict(Xt)\n",
        "yp = TM.predict_proba(Xt)\n",
        "yp = yp[:,1]\n",
        "THRESHOLD = 0.50\n",
        "yp50 = np.where(TM.predict_proba(Xt)[:,1] > THRESHOLD,1,0)\n",
        "print('Classes', '\\n', yc)\n",
        "print('Probabilities', '\\n', yp)\n",
        "print(yt.index)"
      ],
      "metadata": {
        "colab": {
          "base_uri": "https://localhost:8080/"
        },
        "outputId": "ab022a14-e4da-429c-f648-6f44acfa7ce0",
        "id": "oh7NBuX096eG"
      },
      "execution_count": null,
      "outputs": [
        {
          "output_type": "stream",
          "name": "stdout",
          "text": [
            "Classes \n",
            " [0 0 0 0 1 1 1 1 0 0 0 0 0 1 1]\n",
            "Probabilities \n",
            " [0.27311669 0.38393711 0.29659111 0.3357791  0.7520206  0.68409012\n",
            " 0.63071511 0.76212973 0.29167789 0.38343972 0.3037946  0.13526518\n",
            " 0.29247039 0.58862556 0.73170134]\n",
            "Index(['Sugar Babies', 'Sugar Daddy', 'Super Bubble', 'Swedish Fish',\n",
            "       'Tootsie Pop', 'Tootsie Roll Juniors', 'Tootsie Roll Midgies',\n",
            "       'Tootsie Roll Snack Bars', 'Trolli Sour Bites', 'Twix', 'Twizzlers',\n",
            "       'Warheads', 'Welchs Fruit Snacks', 'Werthers Original Caramel',\n",
            "       'Whoppers'],\n",
            "      dtype='object', name='competitorname')\n"
          ]
        }
      ]
    },
    {
      "cell_type": "code",
      "source": [
        "recall_score(yt,yp50)"
      ],
      "metadata": {
        "colab": {
          "base_uri": "https://localhost:8080/"
        },
        "outputId": "693aeb74-3f5a-4412-d6f8-69f48c4d5851",
        "id": "YOuMNwCP96eH"
      },
      "execution_count": null,
      "outputs": [
        {
          "output_type": "execute_result",
          "data": {
            "text/plain": [
              "0.6"
            ]
          },
          "metadata": {},
          "execution_count": 107
        }
      ]
    },
    {
      "cell_type": "code",
      "source": [
        "print(float(precision_score(yt,yp50)))"
      ],
      "metadata": {
        "colab": {
          "base_uri": "https://localhost:8080/"
        },
        "outputId": "9fd739cf-2709-4aef-e350-73ab514fa661",
        "id": "GKWj6yXo96eH"
      },
      "execution_count": null,
      "outputs": [
        {
          "output_type": "stream",
          "name": "stdout",
          "text": [
            "0.5\n"
          ]
        }
      ]
    },
    {
      "cell_type": "code",
      "source": [
        "print(round(float(roc_auc_score(yt, yp)),3))"
      ],
      "metadata": {
        "colab": {
          "base_uri": "https://localhost:8080/"
        },
        "outputId": "1111d763-ae3b-42cc-c968-dda78b9de2a3",
        "id": "CigPU4RD96eH"
      },
      "execution_count": null,
      "outputs": [
        {
          "output_type": "stream",
          "name": "stdout",
          "text": [
            "0.84\n"
          ]
        }
      ]
    },
    {
      "cell_type": "code",
      "source": [
        "metrics.plot_roc_curve(TM, Xt, yt)"
      ],
      "metadata": {
        "colab": {
          "base_uri": "https://localhost:8080/",
          "height": 351
        },
        "outputId": "11a60670-d27a-48a2-a7c5-870d2d85f5a4",
        "id": "DyafyVhH96eH"
      },
      "execution_count": null,
      "outputs": [
        {
          "output_type": "stream",
          "name": "stderr",
          "text": [
            "/usr/local/lib/python3.7/dist-packages/sklearn/utils/deprecation.py:87: FutureWarning: Function plot_roc_curve is deprecated; Function :func:`plot_roc_curve` is deprecated in 1.0 and will be removed in 1.2. Use one of the class methods: :meth:`sklearn.metric.RocCurveDisplay.from_predictions` or :meth:`sklearn.metric.RocCurveDisplay.from_estimator`.\n",
            "  warnings.warn(msg, category=FutureWarning)\n"
          ]
        },
        {
          "output_type": "execute_result",
          "data": {
            "text/plain": [
              "<sklearn.metrics._plot.roc_curve.RocCurveDisplay at 0x7f1a50c71890>"
            ]
          },
          "metadata": {},
          "execution_count": 94
        },
        {
          "output_type": "display_data",
          "data": {
            "text/plain": [
              "<Figure size 432x288 with 1 Axes>"
            ],
            "image/png": "[encoded data removed]"
          },
          "metadata": {
            "needs_background": "light"
          }
        }
      ]
    },
    {
      "cell_type": "markdown",
      "source": [
        "MileStone\n",
        "------------"
      ],
      "metadata": {
        "id": "2qcsEb-m-Tau"
      }
    },
    {
      "cell_type": "code",
      "source": [
        "import pandas as pd\n",
        "import numpy as np"
      ],
      "metadata": {
        "id": "vyvf57XnzBbi"
      },
      "execution_count": null,
      "outputs": []
    },
    {
      "cell_type": "code",
      "source": [
        "stars = pd.read_csv('pulsar_stars_new.csv')\n",
        "df = stars[((stars.MIP>=10)&(stars.MIP<=100))]\n",
        "df"
      ],
      "metadata": {
        "id": "Yw2BZx0izF2V"
      },
      "execution_count": null,
      "outputs": []
    },
    {
      "cell_type": "code",
      "source": [
        "print(round(df.MIP.mean(),3))"
      ],
      "metadata": {
        "colab": {
          "base_uri": "https://localhost:8080/"
        },
        "id": "VHPApBvZ1kHj",
        "outputId": "8f89c05b-5550-4ab6-b6e1-0c02a426df0f"
      },
      "execution_count": null,
      "outputs": [
        {
          "output_type": "stream",
          "name": "stdout",
          "text": [
            "77.053\n"
          ]
        }
      ]
    },
    {
      "cell_type": "code",
      "source": [
        "print(round(df.SIP.max(),3))"
      ],
      "metadata": {
        "colab": {
          "base_uri": "https://localhost:8080/"
        },
        "id": "Srw_Bh3n15O5",
        "outputId": "f7783762-0666-48e0-9dcc-2dce806e5d12"
      },
      "execution_count": null,
      "outputs": [
        {
          "output_type": "stream",
          "name": "stdout",
          "text": [
            "68.102\n"
          ]
        }
      ]
    },
    {
      "cell_type": "code",
      "source": [
        "from sklearn.model_selection import train_test_split\n",
        "from sklearn.preprocessing import StandardScaler\n",
        "from sklearn.linear_model import LogisticRegression\n",
        "from sklearn.metrics import DistanceMetric\n",
        "from sklearn.neighbors import KNeighborsClassifier"
      ],
      "metadata": {
        "id": "ryU6BNDI2RxI"
      },
      "execution_count": null,
      "outputs": []
    },
    {
      "cell_type": "code",
      "source": [
        "X = df.drop([\"TG\"], axis=1).values\n",
        "y = df[\"TG\"].values\n",
        "\n",
        "X_train, X_test, y_train, y_test = train_test_split(X, y, test_size=0.3, random_state=2022)\n",
        "scaler = StandardScaler().fit(X_train)\n",
        "\n",
        "scaler_train = scaler.transform(X_train)\n",
        "scaler_test = scaler.transform(X_test)"
      ],
      "metadata": {
        "id": "tcxiEjuK1H1e"
      },
      "execution_count": null,
      "outputs": []
    },
    {
      "cell_type": "code",
      "source": [
        "print(round(scaler_train.transpose()[3].max(),3))"
      ],
      "metadata": {
        "colab": {
          "base_uri": "https://localhost:8080/"
        },
        "id": "pCs9QyoM1d2e",
        "outputId": "cb80f772-d639-46e6-9eb7-64b74b3eee9e"
      },
      "execution_count": null,
      "outputs": [
        {
          "output_type": "stream",
          "name": "stdout",
          "text": [
            "5.018\n"
          ]
        }
      ]
    },
    {
      "cell_type": "code",
      "source": [
        "reg_train = LogisticRegression(random_state=2022, solver='lbfgs').fit(scaler_train, y_train)\n",
        "reg_test = LogisticRegression(random_state=2022, solver='lbfgs').fit(scaler_test, y_test)"
      ],
      "metadata": {
        "id": "GHBcXqjx2Jun"
      },
      "execution_count": null,
      "outputs": []
    },
    {
      "cell_type": "code",
      "source": [
        "reg_train.coef_[0][0]"
      ],
      "metadata": {
        "colab": {
          "base_uri": "https://localhost:8080/"
        },
        "id": "iFq4mjrZ21OM",
        "outputId": "d424f341-8eb9-434e-f907-4b4f7dbe331d"
      },
      "execution_count": null,
      "outputs": [
        {
          "output_type": "execute_result",
          "data": {
            "text/plain": [
              "1.3940432701881482"
            ]
          },
          "metadata": {},
          "execution_count": 249
        }
      ]
    },
    {
      "cell_type": "code",
      "source": [
        "reg_test.score(scaler_test,y_test)"
      ],
      "metadata": {
        "colab": {
          "base_uri": "https://localhost:8080/"
        },
        "id": "R_qSG_gg3mW0",
        "outputId": "5837a93e-20e0-4251-a251-ff721aef2fc4"
      },
      "execution_count": null,
      "outputs": [
        {
          "output_type": "execute_result",
          "data": {
            "text/plain": [
              "0.9328593996840442"
            ]
          },
          "metadata": {},
          "execution_count": 252
        }
      ]
    },
    {
      "cell_type": "code",
      "source": [
        "tstar = [136.750000,57.178449,-0.068415,-0.636238,3.642977,20.959280,6.896499,53.593661]\n",
        "tstar = scaler.transform([tstar])"
      ],
      "metadata": {
        "id": "fLP-IiBq4lwp"
      },
      "execution_count": null,
      "outputs": []
    },
    {
      "cell_type": "code",
      "source": [
        "reg_train.predict(tstar)[0]"
      ],
      "metadata": {
        "colab": {
          "base_uri": "https://localhost:8080/"
        },
        "id": "M-bZ0U7V47OK",
        "outputId": "5084c552-2e27-4949-aa7a-02ca221edea4"
      },
      "execution_count": null,
      "outputs": [
        {
          "output_type": "execute_result",
          "data": {
            "text/plain": [
              "0"
            ]
          },
          "metadata": {},
          "execution_count": 254
        }
      ]
    },
    {
      "cell_type": "code",
      "source": [
        "reg_train.predict_proba(tstar)"
      ],
      "metadata": {
        "colab": {
          "base_uri": "https://localhost:8080/"
        },
        "id": "5_g6VQSv5qHY",
        "outputId": "356cfcad-c50b-4f46-9661-f2779743eb1e"
      },
      "execution_count": null,
      "outputs": [
        {
          "output_type": "execute_result",
          "data": {
            "text/plain": [
              "array([[0.92544067, 0.07455933]])"
            ]
          },
          "metadata": {},
          "execution_count": 255
        }
      ]
    },
    {
      "cell_type": "code",
      "source": [
        "neigh=NearestNeighbors(n_neighbors=5,p=2)\n",
        "neigh.fit(scaler_train,y_train)\n",
        "print('Euc: ', neigh.kneighbors(tstar))\n",
        "neigh=NearestNeighbors(n_neighbors=5,p=1)\n",
        "neigh.fit(scaler_train,y_train)\n",
        "print('Manh: ', neigh.kneighbors(tstar))"
      ],
      "metadata": {
        "colab": {
          "base_uri": "https://localhost:8080/"
        },
        "id": "pPNieEJ26gcN",
        "outputId": "a4c41f4c-77af-4856-c813-cdbaec9cda9e"
      },
      "execution_count": null,
      "outputs": [
        {
          "output_type": "stream",
          "name": "stdout",
          "text": [
            "Euc:  (array([[1.67919448, 1.6803295 , 1.69891163, 1.74096268, 1.74311307]]), array([[2738, 1693, 2209, 1259, 2469]]))\n",
            "Manh:  (array([[2.61629766, 2.67360321, 2.72390797, 2.7459689 , 2.87414192]]), array([[1024, 2738, 1259, 2209, 2017]]))\n"
          ]
        }
      ]
    },
    {
      "cell_type": "code",
      "source": [
        "neigh=KNeighborsClassifier(n_neighbors=5,p=2)\n",
        "neigh.fit(scaler_train,y_train)\n",
        "print('Euc: ', neigh.predict(tstar))\n",
        "neigh=KNeighborsClassifier(n_neighbors=5,p=1)\n",
        "neigh.fit(scaler_train,y_train)\n",
        "print('Manh: ', neigh.predict(tstar))"
      ],
      "metadata": {
        "colab": {
          "base_uri": "https://localhost:8080/"
        },
        "id": "cS_vanbF7Q1P",
        "outputId": "c7577be9-2789-483b-feb7-4c8d8eec9716"
      },
      "execution_count": null,
      "outputs": [
        {
          "output_type": "stream",
          "name": "stdout",
          "text": [
            "Euc:  [0]\n",
            "Manh:  [0]\n"
          ]
        }
      ]
    },
    {
      "cell_type": "markdown",
      "source": [
        "Hi there, it's me writing my exam\n",
        "--------------"
      ],
      "metadata": {
        "id": "7C5Ytr-0Yq1d"
      }
    },
    {
      "cell_type": "code",
      "source": [
        "from IPython.core.display import Image\n",
        "import pandas as pd\n",
        "import numpy as np\n",
        "from sklearn.preprocessing import Normalizer\n",
        "from sklearn.preprocessing import StandardScaler\n",
        "from sklearn.preprocessing import MinMaxScaler\n",
        "from sklearn.linear_model import LogisticRegression\n",
        "from sklearn.neighbors import KNeighborsClassifier\n",
        "from sklearn.neighbors import NearestNeighbors\n",
        "from sklearn import preprocessing"
      ],
      "metadata": {
        "id": "z7YwoeF5Yw2o"
      },
      "execution_count": null,
      "outputs": []
    },
    {
      "cell_type": "code",
      "source": [
        "from pandas.core.frame import DataFrame\n",
        "stars = pd.read_csv('pulsar_stars_new.csv')\n",
        "df = DataFrame(stars[((stars.TG==0)&((stars.MIP>=90.3515625)&(stars.MIP<=91.234375)))|((stars.TG==1)&((stars.MIP>=20.7890625)&(stars.MIP<=25.890625)))])\n",
        "df"
      ],
      "metadata": {
        "id": "MtYFyDpdeX9s",
        "colab": {
          "base_uri": "https://localhost:8080/",
          "height": 423
        },
        "outputId": "dd847f26-7748-42f5-a6af-916e83ed3be3"
      },
      "execution_count": null,
      "outputs": [
        {
          "output_type": "execute_result",
          "data": {
            "text/plain": [
              "             MIP      STDIP      EKIP        SIP          MC       STDC  \\\n",
              "92     23.625000  29.948654  5.688038  35.987172  146.568562  82.394624   \n",
              "125    90.968750  41.607905  0.729465   1.211588    1.897993  14.792646   \n",
              "523    23.734375  31.606587  5.485040  31.877044   32.781773  57.900561   \n",
              "538    22.515625  30.841324  5.701813  34.574225   74.826923  71.169925   \n",
              "568    23.671875  31.177694  5.157291  30.346608   69.510870  62.256018   \n",
              "...          ...        ...       ...        ...         ...        ...   \n",
              "17099  91.031250  41.862673  0.565620   1.317615    4.469064  23.039007   \n",
              "17335  90.679688  41.167329  0.910271   1.804456    1.798495  13.210618   \n",
              "17432  90.664062  38.962377  0.667237   1.570840    2.102843  13.717173   \n",
              "17742  90.953125  47.129618  0.905928   0.767671    7.645485  34.665912   \n",
              "17776  90.414062  40.192414  0.473464   1.547406    1.508361  13.059771   \n",
              "\n",
              "             EKC          SC  TG  \n",
              "92     -0.274902   -1.121848   1  \n",
              "125    10.418707  128.754887   0  \n",
              "523     2.020024    3.614699   1  \n",
              "538     0.803086   -0.138985   1  \n",
              "568     1.346743    1.181281   1  \n",
              "...          ...         ...  ..  \n",
              "17099   6.248240   42.821363   0  \n",
              "17335  11.248273  162.089970   0  \n",
              "17432  10.638249  146.213774   0  \n",
              "17742   4.826019   23.122647   0  \n",
              "17776  11.438551  161.530238   0  \n",
              "\n",
              "[202 rows x 9 columns]"
            ],
            "text/html": [
              "\n",
              "  <div id=\"df-eddae1dc-6f12-408f-8477-2a55225a8212\">\n",
              "    <div class=\"colab-df-container\">\n",
              "      <div>\n",
              "<style scoped>\n",
              "    .dataframe tbody tr th:only-of-type {\n",
              "        vertical-align: middle;\n",
              "    }\n",
              "\n",
              "    .dataframe tbody tr th {\n",
              "        vertical-align: top;\n",
              "    }\n",
              "\n",
              "    .dataframe thead th {\n",
              "        text-align: right;\n",
              "    }\n",
              "</style>\n",
              "<table border=\"1\" class=\"dataframe\">\n",
              "  <thead>\n",
              "    <tr style=\"text-align: right;\">\n",
              "      <th></th>\n",
              "      <th>MIP</th>\n",
              "      <th>STDIP</th>\n",
              "      <th>EKIP</th>\n",
              "      <th>SIP</th>\n",
              "      <th>MC</th>\n",
              "      <th>STDC</th>\n",
              "      <th>EKC</th>\n",
              "      <th>SC</th>\n",
              "      <th>TG</th>\n",
              "    </tr>\n",
              "  </thead>\n",
              "  <tbody>\n",
              "    <tr>\n",
              "      <th>92</th>\n",
              "      <td>23.625000</td>\n",
              "      <td>29.948654</td>\n",
              "      <td>5.688038</td>\n",
              "      <td>35.987172</td>\n",
              "      <td>146.568562</td>\n",
              "      <td>82.394624</td>\n",
              "      <td>-0.274902</td>\n",
              "      <td>-1.121848</td>\n",
              "      <td>1</td>\n",
              "    </tr>\n",
              "    <tr>\n",
              "      <th>125</th>\n",
              "      <td>90.968750</td>\n",
              "      <td>41.607905</td>\n",
              "      <td>0.729465</td>\n",
              "      <td>1.211588</td>\n",
              "      <td>1.897993</td>\n",
              "      <td>14.792646</td>\n",
              "      <td>10.418707</td>\n",
              "      <td>128.754887</td>\n",
              "      <td>0</td>\n",
              "    </tr>\n",
              "    <tr>\n",
              "      <th>523</th>\n",
              "      <td>23.734375</td>\n",
              "      <td>31.606587</td>\n",
              "      <td>5.485040</td>\n",
              "      <td>31.877044</td>\n",
              "      <td>32.781773</td>\n",
              "      <td>57.900561</td>\n",
              "      <td>2.020024</td>\n",
              "      <td>3.614699</td>\n",
              "      <td>1</td>\n",
              "    </tr>\n",
              "    <tr>\n",
              "      <th>538</th>\n",
              "      <td>22.515625</td>\n",
              "      <td>30.841324</td>\n",
              "      <td>5.701813</td>\n",
              "      <td>34.574225</td>\n",
              "      <td>74.826923</td>\n",
              "      <td>71.169925</td>\n",
              "      <td>0.803086</td>\n",
              "      <td>-0.138985</td>\n",
              "      <td>1</td>\n",
              "    </tr>\n",
              "    <tr>\n",
              "      <th>568</th>\n",
              "      <td>23.671875</td>\n",
              "      <td>31.177694</td>\n",
              "      <td>5.157291</td>\n",
              "      <td>30.346608</td>\n",
              "      <td>69.510870</td>\n",
              "      <td>62.256018</td>\n",
              "      <td>1.346743</td>\n",
              "      <td>1.181281</td>\n",
              "      <td>1</td>\n",
              "    </tr>\n",
              "    <tr>\n",
              "      <th>...</th>\n",
              "      <td>...</td>\n",
              "      <td>...</td>\n",
              "      <td>...</td>\n",
              "      <td>...</td>\n",
              "      <td>...</td>\n",
              "      <td>...</td>\n",
              "      <td>...</td>\n",
              "      <td>...</td>\n",
              "      <td>...</td>\n",
              "    </tr>\n",
              "    <tr>\n",
              "      <th>17099</th>\n",
              "      <td>91.031250</td>\n",
              "      <td>41.862673</td>\n",
              "      <td>0.565620</td>\n",
              "      <td>1.317615</td>\n",
              "      <td>4.469064</td>\n",
              "      <td>23.039007</td>\n",
              "      <td>6.248240</td>\n",
              "      <td>42.821363</td>\n",
              "      <td>0</td>\n",
              "    </tr>\n",
              "    <tr>\n",
              "      <th>17335</th>\n",
              "      <td>90.679688</td>\n",
              "      <td>41.167329</td>\n",
              "      <td>0.910271</td>\n",
              "      <td>1.804456</td>\n",
              "      <td>1.798495</td>\n",
              "      <td>13.210618</td>\n",
              "      <td>11.248273</td>\n",
              "      <td>162.089970</td>\n",
              "      <td>0</td>\n",
              "    </tr>\n",
              "    <tr>\n",
              "      <th>17432</th>\n",
              "      <td>90.664062</td>\n",
              "      <td>38.962377</td>\n",
              "      <td>0.667237</td>\n",
              "      <td>1.570840</td>\n",
              "      <td>2.102843</td>\n",
              "      <td>13.717173</td>\n",
              "      <td>10.638249</td>\n",
              "      <td>146.213774</td>\n",
              "      <td>0</td>\n",
              "    </tr>\n",
              "    <tr>\n",
              "      <th>17742</th>\n",
              "      <td>90.953125</td>\n",
              "      <td>47.129618</td>\n",
              "      <td>0.905928</td>\n",
              "      <td>0.767671</td>\n",
              "      <td>7.645485</td>\n",
              "      <td>34.665912</td>\n",
              "      <td>4.826019</td>\n",
              "      <td>23.122647</td>\n",
              "      <td>0</td>\n",
              "    </tr>\n",
              "    <tr>\n",
              "      <th>17776</th>\n",
              "      <td>90.414062</td>\n",
              "      <td>40.192414</td>\n",
              "      <td>0.473464</td>\n",
              "      <td>1.547406</td>\n",
              "      <td>1.508361</td>\n",
              "      <td>13.059771</td>\n",
              "      <td>11.438551</td>\n",
              "      <td>161.530238</td>\n",
              "      <td>0</td>\n",
              "    </tr>\n",
              "  </tbody>\n",
              "</table>\n",
              "<p>202 rows × 9 columns</p>\n",
              "</div>\n",
              "      <button class=\"colab-df-convert\" onclick=\"convertToInteractive('df-eddae1dc-6f12-408f-8477-2a55225a8212')\"\n",
              "              title=\"Convert this dataframe to an interactive table.\"\n",
              "              style=\"display:none;\">\n",
              "        \n",
              "  <svg xmlns=\"http://www.w3.org/2000/svg\" height=\"24px\"viewBox=\"0 0 24 24\"\n",
              "       width=\"24px\">\n",
              "    <path d=\"M0 0h24v24H0V0z\" fill=\"none\"/>\n",
              "    <path d=\"M18.56 5.44l.94 2.06.94-2.06 2.06-.94-2.06-.94-.94-2.06-.94 2.06-2.06.94zm-11 1L8.5 8.5l.94-2.06 2.06-.94-2.06-.94L8.5 2.5l-.94 2.06-2.06.94zm10 10l.94 2.06.94-2.06 2.06-.94-2.06-.94-.94-2.06-.94 2.06-2.06.94z\"/><path d=\"M17.41 7.96l-1.37-1.37c-.4-.4-.92-.59-1.43-.59-.52 0-1.04.2-1.43.59L10.3 9.45l-7.72 7.72c-.78.78-.78 2.05 0 2.83L4 21.41c.39.39.9.59 1.41.59.51 0 1.02-.2 1.41-.59l7.78-7.78 2.81-2.81c.8-.78.8-2.07 0-2.86zM5.41 20L4 18.59l7.72-7.72 1.47 1.35L5.41 20z\"/>\n",
              "  </svg>\n",
              "      </button>\n",
              "      \n",
              "  <style>\n",
              "    .colab-df-container {\n",
              "      display:flex;\n",
              "      flex-wrap:wrap;\n",
              "      gap: 12px;\n",
              "    }\n",
              "\n",
              "    .colab-df-convert {\n",
              "      background-color: #E8F0FE;\n",
              "      border: none;\n",
              "      border-radius: 50%;\n",
              "      cursor: pointer;\n",
              "      display: none;\n",
              "      fill: #1967D2;\n",
              "      height: 32px;\n",
              "      padding: 0 0 0 0;\n",
              "      width: 32px;\n",
              "    }\n",
              "\n",
              "    .colab-df-convert:hover {\n",
              "      background-color: #E2EBFA;\n",
              "      box-shadow: 0px 1px 2px rgba(60, 64, 67, 0.3), 0px 1px 3px 1px rgba(60, 64, 67, 0.15);\n",
              "      fill: #174EA6;\n",
              "    }\n",
              "\n",
              "    [theme=dark] .colab-df-convert {\n",
              "      background-color: #3B4455;\n",
              "      fill: #D2E3FC;\n",
              "    }\n",
              "\n",
              "    [theme=dark] .colab-df-convert:hover {\n",
              "      background-color: #434B5C;\n",
              "      box-shadow: 0px 1px 3px 1px rgba(0, 0, 0, 0.15);\n",
              "      filter: drop-shadow(0px 1px 2px rgba(0, 0, 0, 0.3));\n",
              "      fill: #FFFFFF;\n",
              "    }\n",
              "  </style>\n",
              "\n",
              "      <script>\n",
              "        const buttonEl =\n",
              "          document.querySelector('#df-eddae1dc-6f12-408f-8477-2a55225a8212 button.colab-df-convert');\n",
              "        buttonEl.style.display =\n",
              "          google.colab.kernel.accessAllowed ? 'block' : 'none';\n",
              "\n",
              "        async function convertToInteractive(key) {\n",
              "          const element = document.querySelector('#df-eddae1dc-6f12-408f-8477-2a55225a8212');\n",
              "          const dataTable =\n",
              "            await google.colab.kernel.invokeFunction('convertToInteractive',\n",
              "                                                     [key], {});\n",
              "          if (!dataTable) return;\n",
              "\n",
              "          const docLinkHtml = 'Like what you see? Visit the ' +\n",
              "            '<a target=\"_blank\" href=https://colab.research.google.com/notebooks/data_table.ipynb>data table notebook</a>'\n",
              "            + ' to learn more about interactive tables.';\n",
              "          element.innerHTML = '';\n",
              "          dataTable['output_type'] = 'display_data';\n",
              "          await google.colab.output.renderOutput(dataTable, element);\n",
              "          const docLink = document.createElement('div');\n",
              "          docLink.innerHTML = docLinkHtml;\n",
              "          element.appendChild(docLink);\n",
              "        }\n",
              "      </script>\n",
              "    </div>\n",
              "  </div>\n",
              "  "
            ]
          },
          "metadata": {},
          "execution_count": 3
        }
      ]
    },
    {
      "cell_type": "code",
      "source": [
        "print(round(df.MIP.mean(),3))"
      ],
      "metadata": {
        "colab": {
          "base_uri": "https://localhost:8080/"
        },
        "id": "UnDM8NwNfly5",
        "outputId": "fe96208e-7591-4fb8-b109-0a56973d564e"
      },
      "execution_count": null,
      "outputs": [
        {
          "output_type": "stream",
          "name": "stdout",
          "text": [
            "57.066\n"
          ]
        }
      ]
    },
    {
      "cell_type": "code",
      "source": [
        "X = df.drop(['TG'],axis=1).values\n",
        "y=df['TG'].values\n",
        "scaler = MinMaxScaler().fit(X)\n",
        "X_sc = scaler.transform(X)\n",
        "X_sc"
      ],
      "metadata": {
        "colab": {
          "base_uri": "https://localhost:8080/"
        },
        "id": "9VdFkPxtganl",
        "outputId": "e03ed3c0-0750-4d19-a3c7-5769be43fe75"
      },
      "execution_count": null,
      "outputs": [
        {
          "output_type": "execute_result",
          "data": {
            "text/plain": [
              "array([[0.04025729, 0.08721587, 0.81177255, ..., 0.89246054, 0.01762261,\n",
              "        0.0012794 ],\n",
              "       [0.99622934, 0.41785511, 0.06486178, ..., 0.05638843, 0.48506592,\n",
              "        0.25636133],\n",
              "       [0.04180991, 0.1342324 , 0.78119496, ..., 0.58952853, 0.11793933,\n",
              "        0.01058213],\n",
              "       ...,\n",
              "       [0.99190418, 0.34283182, 0.05548831, ..., 0.04308744, 0.49466262,\n",
              "        0.29065112],\n",
              "       [0.99600754, 0.57444278, 0.09144237, ..., 0.30217242, 0.2405961 ,\n",
              "        0.04889634],\n",
              "       [0.98835533, 0.37771385, 0.02630024, ..., 0.03495698, 0.52964577,\n",
              "        0.32073313]])"
            ]
          },
          "metadata": {},
          "execution_count": 4
        }
      ]
    },
    {
      "cell_type": "code",
      "source": [
        "print(round(X_sc.transpose()[0].mean(),3))"
      ],
      "metadata": {
        "colab": {
          "base_uri": "https://localhost:8080/"
        },
        "id": "7MxQwxgFiQFy",
        "outputId": "d349afc3-d29f-4e72-b614-327650e810fb"
      },
      "execution_count": null,
      "outputs": [
        {
          "output_type": "stream",
          "name": "stdout",
          "text": [
            "0.515\n"
          ]
        }
      ]
    },
    {
      "cell_type": "code",
      "source": [
        "star=[[0.598, 0.748, 0.809, 0.913, 0.667, 0.608, 0.473, 0.731]]\n"
      ],
      "metadata": {
        "id": "oyInKf37kAmV"
      },
      "execution_count": null,
      "outputs": []
    },
    {
      "cell_type": "code",
      "source": [
        "reg = LogisticRegression(random_state=2019, solver='lbfgs').fit(X_sc,y)"
      ],
      "metadata": {
        "id": "kLh0DBBPkY75"
      },
      "execution_count": null,
      "outputs": []
    },
    {
      "cell_type": "code",
      "source": [
        "stp = reg.predict_proba(star)\n",
        "print(stp)"
      ],
      "metadata": {
        "colab": {
          "base_uri": "https://localhost:8080/"
        },
        "id": "uhoiFOIwkzrM",
        "outputId": "cf7a3367-ddc7-4118-b9d8-c8809a971071"
      },
      "execution_count": null,
      "outputs": [
        {
          "output_type": "stream",
          "name": "stdout",
          "text": [
            "[[0.17550833 0.82449167]]\n"
          ]
        }
      ]
    },
    {
      "cell_type": "code",
      "source": [
        "nbrs = NearestNeighbors(n_neighbors=2, p=2).fit(X_sc,y)\n",
        "print(nbrs.kneighbors(star))"
      ],
      "metadata": {
        "colab": {
          "base_uri": "https://localhost:8080/"
        },
        "id": "ie5VMjUKlkWI",
        "outputId": "8abdf957-c6e9-4a1c-e9bb-aaafb75c23da"
      },
      "execution_count": null,
      "outputs": [
        {
          "output_type": "stream",
          "name": "stdout",
          "text": [
            "(array([[1.179112  , 1.19192434]]), array([[19, 63]]))\n"
          ]
        }
      ]
    },
    {
      "cell_type": "code",
      "source": [
        "neigh = KNeighborsClassifier(n_neighbors=3, p=2)\n",
        "neigh.fit(X_sc,y)\n",
        "sс = neigh.predict(star)\n",
        "print(sс)"
      ],
      "metadata": {
        "colab": {
          "base_uri": "https://localhost:8080/"
        },
        "id": "odSUDoq_lNFm",
        "outputId": "998034bd-ca03-4a59-bcf2-04a890f220e8"
      },
      "execution_count": null,
      "outputs": [
        {
          "output_type": "stream",
          "name": "stdout",
          "text": [
            "[1]\n"
          ]
        }
      ]
    }
  ]
}